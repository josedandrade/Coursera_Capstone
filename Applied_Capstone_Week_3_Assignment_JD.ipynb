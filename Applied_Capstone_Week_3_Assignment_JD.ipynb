{
 "cells": [
  {
   "cell_type": "markdown",
   "metadata": {
    "colab_type": "text",
    "id": "ERAABR6Dgsy5"
   },
   "source": [
    "\n",
    "<h1 align=\"center\"> Battle of the Neighbourhoods - Toronto </h1>"
   ]
  },
  {
   "cell_type": "markdown",
   "metadata": {
    "colab_type": "text",
    "id": "cJ8cA9KwhpsE"
   },
   "source": [
    "## Author: José D'Andrade"
   ]
  },
  {
   "cell_type": "markdown",
   "metadata": {
    "colab_type": "text",
    "id": "TAPsquAkbt4Y"
   },
   "source": [
    "# Question 1\n",
    "\n",
    "Scrape the page https://en.wikipedia.org/wiki/List_of_postal_codes_of_Canada:_M and create a dataframe\n"
   ]
  },
  {
   "cell_type": "code",
   "execution_count": 1,
   "metadata": {
    "colab": {},
    "colab_type": "code",
    "executionInfo": {
     "elapsed": 2845,
     "status": "ok",
     "timestamp": 1597498793433,
     "user": {
      "displayName": "Thomas George Thomas",
      "photoUrl": "https://lh3.googleusercontent.com/a-/AOh14GhRjmtno5yCmJOUjYiFNGHi_xP5YZBJ1ZpWGKsZ=s64",
      "userId": "09561174857978505545"
     },
     "user_tz": -330
    },
    "id": "SzEnblblBbGH"
   },
   "outputs": [],
   "source": [
    "import pandas as pd\n",
    "import requests"
   ]
  },
  {
   "cell_type": "code",
   "execution_count": 2,
   "metadata": {
    "colab": {
     "base_uri": "https://localhost:8080/",
     "height": 34
    },
    "colab_type": "code",
    "executionInfo": {
     "elapsed": 4495,
     "status": "ok",
     "timestamp": 1597498795114,
     "user": {
      "displayName": "Thomas George Thomas",
      "photoUrl": "https://lh3.googleusercontent.com/a-/AOh14GhRjmtno5yCmJOUjYiFNGHi_xP5YZBJ1ZpWGKsZ=s64",
      "userId": "09561174857978505545"
     },
     "user_tz": -330
    },
    "id": "BiZ4h9i3Y1Yf",
    "outputId": "898a2fe2-b09f-4c48-af45-b0a6eed26a5a"
   },
   "outputs": [
    {
     "data": {
      "text/plain": [
       "<Response [200]>"
      ]
     },
     "execution_count": 2,
     "metadata": {},
     "output_type": "execute_result"
    }
   ],
   "source": [
    "url = \"https://en.wikipedia.org/wiki/List_of_postal_codes_of_Canada:_M\"\n",
    "source = requests.get(url)\n",
    "source"
   ]
  },
  {
   "cell_type": "markdown",
   "metadata": {
    "colab_type": "text",
    "id": "CJ5VXaghaqf-"
   },
   "source": [
    "Response 200 means that we were able to make the connection to the page"
   ]
  },
  {
   "cell_type": "markdown",
   "metadata": {
    "colab_type": "text",
    "id": "4GZ-ANo5alhG"
   },
   "source": [
    "<b>read_html reads all available tables. We are interested in table at index 0"
   ]
  },
  {
   "cell_type": "code",
   "execution_count": 3,
   "metadata": {
    "colab": {
     "base_uri": "https://localhost:8080/",
     "height": 425
    },
    "colab_type": "code",
    "executionInfo": {
     "elapsed": 4823,
     "status": "ok",
     "timestamp": 1597498795463,
     "user": {
      "displayName": "Thomas George Thomas",
      "photoUrl": "https://lh3.googleusercontent.com/a-/AOh14GhRjmtno5yCmJOUjYiFNGHi_xP5YZBJ1ZpWGKsZ=s64",
      "userId": "09561174857978505545"
     },
     "user_tz": -330
    },
    "id": "BgbEBIE8Y_EB",
    "outputId": "5b2524e5-6c43-462b-87b5-d9e71d3d406f"
   },
   "outputs": [
    {
     "name": "stdout",
     "output_type": "stream",
     "text": [
      "Total tables on page: 3\n"
     ]
    }
   ],
   "source": [
    "wikitables = pd.read_html(source.text)\n",
    "len(wikitables)\n",
    "\n",
    "print(f'Total tables on page: {len(wikitables)}')"
   ]
  },
  {
   "cell_type": "markdown",
   "metadata": {},
   "source": [
    "<b>The dataframe will consist of three columns: PostalCode, Borough, and Neighbourhood"
   ]
  },
  {
   "cell_type": "code",
   "execution_count": 4,
   "metadata": {},
   "outputs": [
    {
     "data": {
      "text/html": [
       "<div>\n",
       "<style scoped>\n",
       "    .dataframe tbody tr th:only-of-type {\n",
       "        vertical-align: middle;\n",
       "    }\n",
       "\n",
       "    .dataframe tbody tr th {\n",
       "        vertical-align: top;\n",
       "    }\n",
       "\n",
       "    .dataframe thead th {\n",
       "        text-align: right;\n",
       "    }\n",
       "</style>\n",
       "<table border=\"1\" class=\"dataframe\">\n",
       "  <thead>\n",
       "    <tr style=\"text-align: right;\">\n",
       "      <th></th>\n",
       "      <th>Postal Code</th>\n",
       "      <th>Borough</th>\n",
       "      <th>Neighbourhood</th>\n",
       "    </tr>\n",
       "  </thead>\n",
       "  <tbody>\n",
       "    <tr>\n",
       "      <th>0</th>\n",
       "      <td>M1A</td>\n",
       "      <td>Not assigned</td>\n",
       "      <td>Not assigned</td>\n",
       "    </tr>\n",
       "    <tr>\n",
       "      <th>1</th>\n",
       "      <td>M2A</td>\n",
       "      <td>Not assigned</td>\n",
       "      <td>Not assigned</td>\n",
       "    </tr>\n",
       "    <tr>\n",
       "      <th>2</th>\n",
       "      <td>M3A</td>\n",
       "      <td>North York</td>\n",
       "      <td>Parkwoods</td>\n",
       "    </tr>\n",
       "    <tr>\n",
       "      <th>3</th>\n",
       "      <td>M4A</td>\n",
       "      <td>North York</td>\n",
       "      <td>Victoria Village</td>\n",
       "    </tr>\n",
       "    <tr>\n",
       "      <th>4</th>\n",
       "      <td>M5A</td>\n",
       "      <td>Downtown Toronto</td>\n",
       "      <td>Regent Park, Harbourfront</td>\n",
       "    </tr>\n",
       "    <tr>\n",
       "      <th>...</th>\n",
       "      <td>...</td>\n",
       "      <td>...</td>\n",
       "      <td>...</td>\n",
       "    </tr>\n",
       "    <tr>\n",
       "      <th>175</th>\n",
       "      <td>M5Z</td>\n",
       "      <td>Not assigned</td>\n",
       "      <td>Not assigned</td>\n",
       "    </tr>\n",
       "    <tr>\n",
       "      <th>176</th>\n",
       "      <td>M6Z</td>\n",
       "      <td>Not assigned</td>\n",
       "      <td>Not assigned</td>\n",
       "    </tr>\n",
       "    <tr>\n",
       "      <th>177</th>\n",
       "      <td>M7Z</td>\n",
       "      <td>Not assigned</td>\n",
       "      <td>Not assigned</td>\n",
       "    </tr>\n",
       "    <tr>\n",
       "      <th>178</th>\n",
       "      <td>M8Z</td>\n",
       "      <td>Etobicoke</td>\n",
       "      <td>Mimico NW, The Queensway West, South of Bloor,...</td>\n",
       "    </tr>\n",
       "    <tr>\n",
       "      <th>179</th>\n",
       "      <td>M9Z</td>\n",
       "      <td>Not assigned</td>\n",
       "      <td>Not assigned</td>\n",
       "    </tr>\n",
       "  </tbody>\n",
       "</table>\n",
       "<p>180 rows × 3 columns</p>\n",
       "</div>"
      ],
      "text/plain": [
       "    Postal Code           Borough  \\\n",
       "0           M1A      Not assigned   \n",
       "1           M2A      Not assigned   \n",
       "2           M3A        North York   \n",
       "3           M4A        North York   \n",
       "4           M5A  Downtown Toronto   \n",
       "..          ...               ...   \n",
       "175         M5Z      Not assigned   \n",
       "176         M6Z      Not assigned   \n",
       "177         M7Z      Not assigned   \n",
       "178         M8Z         Etobicoke   \n",
       "179         M9Z      Not assigned   \n",
       "\n",
       "                                         Neighbourhood  \n",
       "0                                         Not assigned  \n",
       "1                                         Not assigned  \n",
       "2                                            Parkwoods  \n",
       "3                                     Victoria Village  \n",
       "4                            Regent Park, Harbourfront  \n",
       "..                                                 ...  \n",
       "175                                       Not assigned  \n",
       "176                                       Not assigned  \n",
       "177                                       Not assigned  \n",
       "178  Mimico NW, The Queensway West, South of Bloor,...  \n",
       "179                                       Not assigned  \n",
       "\n",
       "[180 rows x 3 columns]"
      ]
     },
     "execution_count": 4,
     "metadata": {},
     "output_type": "execute_result"
    }
   ],
   "source": [
    "table = wikitables[0]\n",
    "table"
   ]
  },
  {
   "cell_type": "markdown",
   "metadata": {},
   "source": [
    "<b>Only process the cells that have an assigned borough.\n",
    "<b>Ignore cells with a borough that is Not assigned."
   ]
  },
  {
   "cell_type": "code",
   "execution_count": 5,
   "metadata": {
    "colab": {
     "base_uri": "https://localhost:8080/",
     "height": 419
    },
    "colab_type": "code",
    "executionInfo": {
     "elapsed": 4770,
     "status": "ok",
     "timestamp": 1597498795467,
     "user": {
      "displayName": "Thomas George Thomas",
      "photoUrl": "https://lh3.googleusercontent.com/a-/AOh14GhRjmtno5yCmJOUjYiFNGHi_xP5YZBJ1ZpWGKsZ=s64",
      "userId": "09561174857978505545"
     },
     "user_tz": -330
    },
    "id": "U4KhqTidal_H",
    "outputId": "f99d1f44-9d38-4fff-a796-ee80acf1c860"
   },
   "outputs": [
    {
     "data": {
      "text/html": [
       "<div>\n",
       "<style scoped>\n",
       "    .dataframe tbody tr th:only-of-type {\n",
       "        vertical-align: middle;\n",
       "    }\n",
       "\n",
       "    .dataframe tbody tr th {\n",
       "        vertical-align: top;\n",
       "    }\n",
       "\n",
       "    .dataframe thead th {\n",
       "        text-align: right;\n",
       "    }\n",
       "</style>\n",
       "<table border=\"1\" class=\"dataframe\">\n",
       "  <thead>\n",
       "    <tr style=\"text-align: right;\">\n",
       "      <th></th>\n",
       "      <th>Postal Code</th>\n",
       "      <th>Borough</th>\n",
       "      <th>Neighbourhood</th>\n",
       "    </tr>\n",
       "  </thead>\n",
       "  <tbody>\n",
       "    <tr>\n",
       "      <th>2</th>\n",
       "      <td>M3A</td>\n",
       "      <td>North York</td>\n",
       "      <td>Parkwoods</td>\n",
       "    </tr>\n",
       "    <tr>\n",
       "      <th>3</th>\n",
       "      <td>M4A</td>\n",
       "      <td>North York</td>\n",
       "      <td>Victoria Village</td>\n",
       "    </tr>\n",
       "    <tr>\n",
       "      <th>4</th>\n",
       "      <td>M5A</td>\n",
       "      <td>Downtown Toronto</td>\n",
       "      <td>Regent Park, Harbourfront</td>\n",
       "    </tr>\n",
       "    <tr>\n",
       "      <th>5</th>\n",
       "      <td>M6A</td>\n",
       "      <td>North York</td>\n",
       "      <td>Lawrence Manor, Lawrence Heights</td>\n",
       "    </tr>\n",
       "    <tr>\n",
       "      <th>6</th>\n",
       "      <td>M7A</td>\n",
       "      <td>Downtown Toronto</td>\n",
       "      <td>Queen's Park, Ontario Provincial Government</td>\n",
       "    </tr>\n",
       "    <tr>\n",
       "      <th>...</th>\n",
       "      <td>...</td>\n",
       "      <td>...</td>\n",
       "      <td>...</td>\n",
       "    </tr>\n",
       "    <tr>\n",
       "      <th>160</th>\n",
       "      <td>M8X</td>\n",
       "      <td>Etobicoke</td>\n",
       "      <td>The Kingsway, Montgomery Road, Old Mill North</td>\n",
       "    </tr>\n",
       "    <tr>\n",
       "      <th>165</th>\n",
       "      <td>M4Y</td>\n",
       "      <td>Downtown Toronto</td>\n",
       "      <td>Church and Wellesley</td>\n",
       "    </tr>\n",
       "    <tr>\n",
       "      <th>168</th>\n",
       "      <td>M7Y</td>\n",
       "      <td>East Toronto</td>\n",
       "      <td>Business reply mail Processing Centre, South C...</td>\n",
       "    </tr>\n",
       "    <tr>\n",
       "      <th>169</th>\n",
       "      <td>M8Y</td>\n",
       "      <td>Etobicoke</td>\n",
       "      <td>Old Mill South, King's Mill Park, Sunnylea, Hu...</td>\n",
       "    </tr>\n",
       "    <tr>\n",
       "      <th>178</th>\n",
       "      <td>M8Z</td>\n",
       "      <td>Etobicoke</td>\n",
       "      <td>Mimico NW, The Queensway West, South of Bloor,...</td>\n",
       "    </tr>\n",
       "  </tbody>\n",
       "</table>\n",
       "<p>103 rows × 3 columns</p>\n",
       "</div>"
      ],
      "text/plain": [
       "    Postal Code           Borough  \\\n",
       "2           M3A        North York   \n",
       "3           M4A        North York   \n",
       "4           M5A  Downtown Toronto   \n",
       "5           M6A        North York   \n",
       "6           M7A  Downtown Toronto   \n",
       "..          ...               ...   \n",
       "160         M8X         Etobicoke   \n",
       "165         M4Y  Downtown Toronto   \n",
       "168         M7Y      East Toronto   \n",
       "169         M8Y         Etobicoke   \n",
       "178         M8Z         Etobicoke   \n",
       "\n",
       "                                         Neighbourhood  \n",
       "2                                            Parkwoods  \n",
       "3                                     Victoria Village  \n",
       "4                            Regent Park, Harbourfront  \n",
       "5                     Lawrence Manor, Lawrence Heights  \n",
       "6          Queen's Park, Ontario Provincial Government  \n",
       "..                                                 ...  \n",
       "160      The Kingsway, Montgomery Road, Old Mill North  \n",
       "165                               Church and Wellesley  \n",
       "168  Business reply mail Processing Centre, South C...  \n",
       "169  Old Mill South, King's Mill Park, Sunnylea, Hu...  \n",
       "178  Mimico NW, The Queensway West, South of Bloor,...  \n",
       "\n",
       "[103 rows x 3 columns]"
      ]
     },
     "execution_count": 5,
     "metadata": {},
     "output_type": "execute_result"
    }
   ],
   "source": [
    "df = table[table[\"Borough\"] != \"Not assigned\"]\n",
    "df"
   ]
  },
  {
   "cell_type": "markdown",
   "metadata": {
    "colab_type": "text",
    "id": "66auYBzTR0J-"
   },
   "source": [
    "<b> If a cell has a borough but a Not assigned Neighbourhood, then it will be the same as the borough.\n",
    "    \n",
    "    1 Group the records based on Postal Code\n",
    "    2 Get a count of Not Assigned Neighbourhood"
   ]
  },
  {
   "cell_type": "code",
   "execution_count": 6,
   "metadata": {
    "colab": {
     "base_uri": "https://localhost:8080/",
     "height": 419
    },
    "colab_type": "code",
    "executionInfo": {
     "elapsed": 4751,
     "status": "ok",
     "timestamp": 1597498795468,
     "user": {
      "displayName": "Thomas George Thomas",
      "photoUrl": "https://lh3.googleusercontent.com/a-/AOh14GhRjmtno5yCmJOUjYiFNGHi_xP5YZBJ1ZpWGKsZ=s64",
      "userId": "09561174857978505545"
     },
     "user_tz": -330
    },
    "id": "p91x1k6BOjSX",
    "outputId": "aa29b776-134e-4875-aacb-f43bbdfd46c5"
   },
   "outputs": [
    {
     "data": {
      "text/plain": [
       "0"
      ]
     },
     "execution_count": 6,
     "metadata": {},
     "output_type": "execute_result"
    }
   ],
   "source": [
    "df = df.groupby(['Postal Code']).head()\n",
    "df.Neighbourhood.str.count(\"Not assigned\").sum()"
   ]
  },
  {
   "cell_type": "markdown",
   "metadata": {},
   "source": [
    "Nothing else to do here since there are no Not assigned Neighbourhood"
   ]
  },
  {
   "cell_type": "markdown",
   "metadata": {
    "colab_type": "text",
    "id": "7jcvFsdnRm23"
   },
   "source": [
    "<b>In the last cell of your notebook, use the .shape method to print the number of rows of your dataframe."
   ]
  },
  {
   "cell_type": "code",
   "execution_count": 7,
   "metadata": {
    "colab": {
     "base_uri": "https://localhost:8080/",
     "height": 34
    },
    "colab_type": "code",
    "executionInfo": {
     "elapsed": 4673,
     "status": "ok",
     "timestamp": 1597498795473,
     "user": {
      "displayName": "Thomas George Thomas",
      "photoUrl": "https://lh3.googleusercontent.com/a-/AOh14GhRjmtno5yCmJOUjYiFNGHi_xP5YZBJ1ZpWGKsZ=s64",
      "userId": "09561174857978505545"
     },
     "user_tz": -330
    },
    "id": "yKdTF6XxQ1pE",
    "outputId": "269feb92-f56c-462d-a265-304008976403"
   },
   "outputs": [
    {
     "data": {
      "text/plain": [
       "(103, 3)"
      ]
     },
     "execution_count": 7,
     "metadata": {},
     "output_type": "execute_result"
    }
   ],
   "source": [
    "df.shape"
   ]
  },
  {
   "cell_type": "markdown",
   "metadata": {
    "colab_type": "text",
    "id": "tPHDtWwrSNIE"
   },
   "source": [
    "We have 103 rows and 3 columns"
   ]
  },
  {
   "cell_type": "markdown",
   "metadata": {
    "colab_type": "text",
    "id": "aTiOeOBHLLKX"
   },
   "source": [
    "# Question 2"
   ]
  },
  {
   "cell_type": "markdown",
   "metadata": {
    "colab_type": "text",
    "id": "rzL3kiRCNSzv"
   },
   "source": [
    "As suggested in the assignment, given that geocoder can be unreliable, I am using the csv file that has the geographical coordinates of each postal code from http://cocl.us/Geospatial_data\n",
    "\n",
    "<b> import the CSV file from the URL"
   ]
  },
  {
   "cell_type": "code",
   "execution_count": 8,
   "metadata": {
    "colab": {
     "base_uri": "https://localhost:8080/",
     "height": 419
    },
    "colab_type": "code",
    "executionInfo": {
     "elapsed": 14333,
     "status": "ok",
     "timestamp": 1597498805177,
     "user": {
      "displayName": "Thomas George Thomas",
      "photoUrl": "https://lh3.googleusercontent.com/a-/AOh14GhRjmtno5yCmJOUjYiFNGHi_xP5YZBJ1ZpWGKsZ=s64",
      "userId": "09561174857978505545"
     },
     "user_tz": -330
    },
    "id": "zC81rWFBNe_p",
    "outputId": "23faad24-966a-4419-b07f-3f22bf500b54"
   },
   "outputs": [
    {
     "data": {
      "text/html": [
       "<div>\n",
       "<style scoped>\n",
       "    .dataframe tbody tr th:only-of-type {\n",
       "        vertical-align: middle;\n",
       "    }\n",
       "\n",
       "    .dataframe tbody tr th {\n",
       "        vertical-align: top;\n",
       "    }\n",
       "\n",
       "    .dataframe thead th {\n",
       "        text-align: right;\n",
       "    }\n",
       "</style>\n",
       "<table border=\"1\" class=\"dataframe\">\n",
       "  <thead>\n",
       "    <tr style=\"text-align: right;\">\n",
       "      <th></th>\n",
       "      <th>Postal Code</th>\n",
       "      <th>Latitude</th>\n",
       "      <th>Longitude</th>\n",
       "    </tr>\n",
       "  </thead>\n",
       "  <tbody>\n",
       "    <tr>\n",
       "      <th>0</th>\n",
       "      <td>M1B</td>\n",
       "      <td>43.806686</td>\n",
       "      <td>-79.194353</td>\n",
       "    </tr>\n",
       "    <tr>\n",
       "      <th>1</th>\n",
       "      <td>M1C</td>\n",
       "      <td>43.784535</td>\n",
       "      <td>-79.160497</td>\n",
       "    </tr>\n",
       "    <tr>\n",
       "      <th>2</th>\n",
       "      <td>M1E</td>\n",
       "      <td>43.763573</td>\n",
       "      <td>-79.188711</td>\n",
       "    </tr>\n",
       "    <tr>\n",
       "      <th>3</th>\n",
       "      <td>M1G</td>\n",
       "      <td>43.770992</td>\n",
       "      <td>-79.216917</td>\n",
       "    </tr>\n",
       "    <tr>\n",
       "      <th>4</th>\n",
       "      <td>M1H</td>\n",
       "      <td>43.773136</td>\n",
       "      <td>-79.239476</td>\n",
       "    </tr>\n",
       "    <tr>\n",
       "      <th>...</th>\n",
       "      <td>...</td>\n",
       "      <td>...</td>\n",
       "      <td>...</td>\n",
       "    </tr>\n",
       "    <tr>\n",
       "      <th>98</th>\n",
       "      <td>M9N</td>\n",
       "      <td>43.706876</td>\n",
       "      <td>-79.518188</td>\n",
       "    </tr>\n",
       "    <tr>\n",
       "      <th>99</th>\n",
       "      <td>M9P</td>\n",
       "      <td>43.696319</td>\n",
       "      <td>-79.532242</td>\n",
       "    </tr>\n",
       "    <tr>\n",
       "      <th>100</th>\n",
       "      <td>M9R</td>\n",
       "      <td>43.688905</td>\n",
       "      <td>-79.554724</td>\n",
       "    </tr>\n",
       "    <tr>\n",
       "      <th>101</th>\n",
       "      <td>M9V</td>\n",
       "      <td>43.739416</td>\n",
       "      <td>-79.588437</td>\n",
       "    </tr>\n",
       "    <tr>\n",
       "      <th>102</th>\n",
       "      <td>M9W</td>\n",
       "      <td>43.706748</td>\n",
       "      <td>-79.594054</td>\n",
       "    </tr>\n",
       "  </tbody>\n",
       "</table>\n",
       "<p>103 rows × 3 columns</p>\n",
       "</div>"
      ],
      "text/plain": [
       "    Postal Code   Latitude  Longitude\n",
       "0           M1B  43.806686 -79.194353\n",
       "1           M1C  43.784535 -79.160497\n",
       "2           M1E  43.763573 -79.188711\n",
       "3           M1G  43.770992 -79.216917\n",
       "4           M1H  43.773136 -79.239476\n",
       "..          ...        ...        ...\n",
       "98          M9N  43.706876 -79.518188\n",
       "99          M9P  43.696319 -79.532242\n",
       "100         M9R  43.688905 -79.554724\n",
       "101         M9V  43.739416 -79.588437\n",
       "102         M9W  43.706748 -79.594054\n",
       "\n",
       "[103 rows x 3 columns]"
      ]
     },
     "execution_count": 8,
     "metadata": {},
     "output_type": "execute_result"
    }
   ],
   "source": [
    "data = pd.read_csv(\"https://cocl.us/Geospatial_data\")\n",
    "data"
   ]
  },
  {
   "cell_type": "code",
   "execution_count": 9,
   "metadata": {
    "colab": {
     "base_uri": "https://localhost:8080/",
     "height": 51
    },
    "colab_type": "code",
    "executionInfo": {
     "elapsed": 14316,
     "status": "ok",
     "timestamp": 1597498805181,
     "user": {
      "displayName": "Thomas George Thomas",
      "photoUrl": "https://lh3.googleusercontent.com/a-/AOh14GhRjmtno5yCmJOUjYiFNGHi_xP5YZBJ1ZpWGKsZ=s64",
      "userId": "09561174857978505545"
     },
     "user_tz": -330
    },
    "id": "WzkEQNKPiQSm",
    "outputId": "98e7cce4-e128-46c1-ae10-592ede600b3d"
   },
   "outputs": [
    {
     "name": "stdout",
     "output_type": "stream",
     "text": [
      "The shape of our wiki data is:  (103, 3)\n",
      "the shape of our csv data is:  (103, 3)\n"
     ]
    }
   ],
   "source": [
    "print(\"The shape of our wiki data is: \", df.shape)\n",
    "print(\"the shape of our csv data is: \", data.shape)"
   ]
  },
  {
   "cell_type": "markdown",
   "metadata": {
    "colab_type": "text",
    "id": "e5Q48TEgi3mP"
   },
   "source": [
    "Checking the column types of both the dataframes, especially Postal Code column since we are trying to join on it"
   ]
  },
  {
   "cell_type": "code",
   "execution_count": 10,
   "metadata": {
    "colab": {
     "base_uri": "https://localhost:8080/",
     "height": 85
    },
    "colab_type": "code",
    "executionInfo": {
     "elapsed": 14297,
     "status": "ok",
     "timestamp": 1597498805183,
     "user": {
      "displayName": "Thomas George Thomas",
      "photoUrl": "https://lh3.googleusercontent.com/a-/AOh14GhRjmtno5yCmJOUjYiFNGHi_xP5YZBJ1ZpWGKsZ=s64",
      "userId": "09561174857978505545"
     },
     "user_tz": -330
    },
    "id": "ph6GYJmzkAtl",
    "outputId": "d82661b0-13d1-419a-d36b-8a6eb6248d22"
   },
   "outputs": [
    {
     "data": {
      "text/plain": [
       "Postal Code      object\n",
       "Borough          object\n",
       "Neighbourhood    object\n",
       "dtype: object"
      ]
     },
     "execution_count": 10,
     "metadata": {},
     "output_type": "execute_result"
    }
   ],
   "source": [
    "df.dtypes"
   ]
  },
  {
   "cell_type": "code",
   "execution_count": 11,
   "metadata": {
    "colab": {
     "base_uri": "https://localhost:8080/",
     "height": 85
    },
    "colab_type": "code",
    "executionInfo": {
     "elapsed": 14277,
     "status": "ok",
     "timestamp": 1597498805184,
     "user": {
      "displayName": "Thomas George Thomas",
      "photoUrl": "https://lh3.googleusercontent.com/a-/AOh14GhRjmtno5yCmJOUjYiFNGHi_xP5YZBJ1ZpWGKsZ=s64",
      "userId": "09561174857978505545"
     },
     "user_tz": -330
    },
    "id": "Hpn4-9KHkNVS",
    "outputId": "cc98807b-a34c-4424-a57f-308f5f48e14f"
   },
   "outputs": [
    {
     "data": {
      "text/plain": [
       "Postal Code     object\n",
       "Latitude       float64\n",
       "Longitude      float64\n",
       "dtype: object"
      ]
     },
     "execution_count": 11,
     "metadata": {},
     "output_type": "execute_result"
    }
   ],
   "source": [
    "data.dtypes"
   ]
  },
  {
   "cell_type": "markdown",
   "metadata": {},
   "source": [
    "**Dimensions are the same, so let's join on the postal codes to get the data.**"
   ]
  },
  {
   "cell_type": "code",
   "execution_count": 12,
   "metadata": {
    "colab": {
     "base_uri": "https://localhost:8080/",
     "height": 419
    },
    "colab_type": "code",
    "executionInfo": {
     "elapsed": 14257,
     "status": "ok",
     "timestamp": 1597498805185,
     "user": {
      "displayName": "Thomas George Thomas",
      "photoUrl": "https://lh3.googleusercontent.com/a-/AOh14GhRjmtno5yCmJOUjYiFNGHi_xP5YZBJ1ZpWGKsZ=s64",
      "userId": "09561174857978505545"
     },
     "user_tz": -330
    },
    "id": "fGxy6t20kPky",
    "outputId": "4ced58a1-cd8f-4d3d-fb62-2e4e741586ae"
   },
   "outputs": [
    {
     "data": {
      "text/plain": [
       "(103, 5)"
      ]
     },
     "execution_count": 12,
     "metadata": {},
     "output_type": "execute_result"
    }
   ],
   "source": [
    "combined_data = df.join(data.set_index('Postal Code'), on='Postal Code', how='inner')\n",
    "combined_data.shape"
   ]
  },
  {
   "cell_type": "markdown",
   "metadata": {
    "colab_type": "text",
    "id": "iGkVgUeGlmDL"
   },
   "source": [
    "**Use the Geocoder package or the csv file to create the dataframe:**\n",
    "\n",
    "103 rows now displaying latitude and longitude"
   ]
  },
  {
   "cell_type": "code",
   "execution_count": 13,
   "metadata": {},
   "outputs": [
    {
     "data": {
      "text/html": [
       "<div>\n",
       "<style scoped>\n",
       "    .dataframe tbody tr th:only-of-type {\n",
       "        vertical-align: middle;\n",
       "    }\n",
       "\n",
       "    .dataframe tbody tr th {\n",
       "        vertical-align: top;\n",
       "    }\n",
       "\n",
       "    .dataframe thead th {\n",
       "        text-align: right;\n",
       "    }\n",
       "</style>\n",
       "<table border=\"1\" class=\"dataframe\">\n",
       "  <thead>\n",
       "    <tr style=\"text-align: right;\">\n",
       "      <th></th>\n",
       "      <th>Postal Code</th>\n",
       "      <th>Borough</th>\n",
       "      <th>Neighbourhood</th>\n",
       "      <th>Latitude</th>\n",
       "      <th>Longitude</th>\n",
       "    </tr>\n",
       "  </thead>\n",
       "  <tbody>\n",
       "    <tr>\n",
       "      <th>2</th>\n",
       "      <td>M3A</td>\n",
       "      <td>North York</td>\n",
       "      <td>Parkwoods</td>\n",
       "      <td>43.753259</td>\n",
       "      <td>-79.329656</td>\n",
       "    </tr>\n",
       "    <tr>\n",
       "      <th>3</th>\n",
       "      <td>M4A</td>\n",
       "      <td>North York</td>\n",
       "      <td>Victoria Village</td>\n",
       "      <td>43.725882</td>\n",
       "      <td>-79.315572</td>\n",
       "    </tr>\n",
       "    <tr>\n",
       "      <th>4</th>\n",
       "      <td>M5A</td>\n",
       "      <td>Downtown Toronto</td>\n",
       "      <td>Regent Park, Harbourfront</td>\n",
       "      <td>43.654260</td>\n",
       "      <td>-79.360636</td>\n",
       "    </tr>\n",
       "    <tr>\n",
       "      <th>5</th>\n",
       "      <td>M6A</td>\n",
       "      <td>North York</td>\n",
       "      <td>Lawrence Manor, Lawrence Heights</td>\n",
       "      <td>43.718518</td>\n",
       "      <td>-79.464763</td>\n",
       "    </tr>\n",
       "    <tr>\n",
       "      <th>6</th>\n",
       "      <td>M7A</td>\n",
       "      <td>Downtown Toronto</td>\n",
       "      <td>Queen's Park, Ontario Provincial Government</td>\n",
       "      <td>43.662301</td>\n",
       "      <td>-79.389494</td>\n",
       "    </tr>\n",
       "    <tr>\n",
       "      <th>...</th>\n",
       "      <td>...</td>\n",
       "      <td>...</td>\n",
       "      <td>...</td>\n",
       "      <td>...</td>\n",
       "      <td>...</td>\n",
       "    </tr>\n",
       "    <tr>\n",
       "      <th>160</th>\n",
       "      <td>M8X</td>\n",
       "      <td>Etobicoke</td>\n",
       "      <td>The Kingsway, Montgomery Road, Old Mill North</td>\n",
       "      <td>43.653654</td>\n",
       "      <td>-79.506944</td>\n",
       "    </tr>\n",
       "    <tr>\n",
       "      <th>165</th>\n",
       "      <td>M4Y</td>\n",
       "      <td>Downtown Toronto</td>\n",
       "      <td>Church and Wellesley</td>\n",
       "      <td>43.665860</td>\n",
       "      <td>-79.383160</td>\n",
       "    </tr>\n",
       "    <tr>\n",
       "      <th>168</th>\n",
       "      <td>M7Y</td>\n",
       "      <td>East Toronto</td>\n",
       "      <td>Business reply mail Processing Centre, South C...</td>\n",
       "      <td>43.662744</td>\n",
       "      <td>-79.321558</td>\n",
       "    </tr>\n",
       "    <tr>\n",
       "      <th>169</th>\n",
       "      <td>M8Y</td>\n",
       "      <td>Etobicoke</td>\n",
       "      <td>Old Mill South, King's Mill Park, Sunnylea, Hu...</td>\n",
       "      <td>43.636258</td>\n",
       "      <td>-79.498509</td>\n",
       "    </tr>\n",
       "    <tr>\n",
       "      <th>178</th>\n",
       "      <td>M8Z</td>\n",
       "      <td>Etobicoke</td>\n",
       "      <td>Mimico NW, The Queensway West, South of Bloor,...</td>\n",
       "      <td>43.628841</td>\n",
       "      <td>-79.520999</td>\n",
       "    </tr>\n",
       "  </tbody>\n",
       "</table>\n",
       "<p>103 rows × 5 columns</p>\n",
       "</div>"
      ],
      "text/plain": [
       "    Postal Code           Borough  \\\n",
       "2           M3A        North York   \n",
       "3           M4A        North York   \n",
       "4           M5A  Downtown Toronto   \n",
       "5           M6A        North York   \n",
       "6           M7A  Downtown Toronto   \n",
       "..          ...               ...   \n",
       "160         M8X         Etobicoke   \n",
       "165         M4Y  Downtown Toronto   \n",
       "168         M7Y      East Toronto   \n",
       "169         M8Y         Etobicoke   \n",
       "178         M8Z         Etobicoke   \n",
       "\n",
       "                                         Neighbourhood   Latitude  Longitude  \n",
       "2                                            Parkwoods  43.753259 -79.329656  \n",
       "3                                     Victoria Village  43.725882 -79.315572  \n",
       "4                            Regent Park, Harbourfront  43.654260 -79.360636  \n",
       "5                     Lawrence Manor, Lawrence Heights  43.718518 -79.464763  \n",
       "6          Queen's Park, Ontario Provincial Government  43.662301 -79.389494  \n",
       "..                                                 ...        ...        ...  \n",
       "160      The Kingsway, Montgomery Road, Old Mill North  43.653654 -79.506944  \n",
       "165                               Church and Wellesley  43.665860 -79.383160  \n",
       "168  Business reply mail Processing Centre, South C...  43.662744 -79.321558  \n",
       "169  Old Mill South, King's Mill Park, Sunnylea, Hu...  43.636258 -79.498509  \n",
       "178  Mimico NW, The Queensway West, South of Bloor,...  43.628841 -79.520999  \n",
       "\n",
       "[103 rows x 5 columns]"
      ]
     },
     "execution_count": 13,
     "metadata": {},
     "output_type": "execute_result"
    }
   ],
   "source": [
    "combined_data"
   ]
  },
  {
   "cell_type": "markdown",
   "metadata": {
    "colab_type": "text",
    "id": "VD4pf99BtHi2"
   },
   "source": [
    "# Question 3"
   ]
  },
  {
   "cell_type": "markdown",
   "metadata": {
    "colab_type": "text",
    "id": "4IeqtDxzRxUV"
   },
   "source": [
    "Explore and cluster the neighborhoods in Toronto. I chose to replicate the same analysis we did to the New York City data."
   ]
  },
  {
   "cell_type": "markdown",
   "metadata": {},
   "source": [
    "**download all the dependencies that we will need**"
   ]
  },
  {
   "cell_type": "code",
   "execution_count": 14,
   "metadata": {
    "colab": {},
    "colab_type": "code",
    "executionInfo": {
     "elapsed": 1641,
     "status": "ok",
     "timestamp": 1597498952948,
     "user": {
      "displayName": "Thomas George Thomas",
      "photoUrl": "https://lh3.googleusercontent.com/a-/AOh14GhRjmtno5yCmJOUjYiFNGHi_xP5YZBJ1ZpWGKsZ=s64",
      "userId": "09561174857978505545"
     },
     "user_tz": -330
    },
    "id": "66YHle98jbYr"
   },
   "outputs": [
    {
     "name": "stdout",
     "output_type": "stream",
     "text": [
      "Libraries imported.\n"
     ]
    }
   ],
   "source": [
    "import numpy as np # library to handle data in a vectorized manner\n",
    "\n",
    "import json # library to handle JSON files\n",
    "\n",
    "from geopy.geocoders import Nominatim  # convert an address into latitude and longitude values\n",
    "\n",
    "from pandas.io.json import json_normalize # tranform JSON file into a pandas dataframe\n",
    "\n",
    "# Matplotlib and associated plotting modules\n",
    "import matplotlib.cm as cm\n",
    "import matplotlib.colors as colors\n",
    "\n",
    "# import k-means from clustering stage\n",
    "from sklearn.cluster import KMeans\n",
    "\n",
    "import folium # map rendering library\n",
    "\n",
    "print('Libraries imported.')"
   ]
  },
  {
   "cell_type": "markdown",
   "metadata": {},
   "source": [
    "**explore the dataset and examine the dataframe**"
   ]
  },
  {
   "cell_type": "code",
   "execution_count": 15,
   "metadata": {},
   "outputs": [
    {
     "data": {
      "text/html": [
       "<div>\n",
       "<style scoped>\n",
       "    .dataframe tbody tr th:only-of-type {\n",
       "        vertical-align: middle;\n",
       "    }\n",
       "\n",
       "    .dataframe tbody tr th {\n",
       "        vertical-align: top;\n",
       "    }\n",
       "\n",
       "    .dataframe thead th {\n",
       "        text-align: right;\n",
       "    }\n",
       "</style>\n",
       "<table border=\"1\" class=\"dataframe\">\n",
       "  <thead>\n",
       "    <tr style=\"text-align: right;\">\n",
       "      <th></th>\n",
       "      <th>Postal Code</th>\n",
       "      <th>Borough</th>\n",
       "      <th>Neighbourhood</th>\n",
       "      <th>Latitude</th>\n",
       "      <th>Longitude</th>\n",
       "    </tr>\n",
       "  </thead>\n",
       "  <tbody>\n",
       "    <tr>\n",
       "      <th>2</th>\n",
       "      <td>M3A</td>\n",
       "      <td>North York</td>\n",
       "      <td>Parkwoods</td>\n",
       "      <td>43.753259</td>\n",
       "      <td>-79.329656</td>\n",
       "    </tr>\n",
       "    <tr>\n",
       "      <th>3</th>\n",
       "      <td>M4A</td>\n",
       "      <td>North York</td>\n",
       "      <td>Victoria Village</td>\n",
       "      <td>43.725882</td>\n",
       "      <td>-79.315572</td>\n",
       "    </tr>\n",
       "    <tr>\n",
       "      <th>4</th>\n",
       "      <td>M5A</td>\n",
       "      <td>Downtown Toronto</td>\n",
       "      <td>Regent Park, Harbourfront</td>\n",
       "      <td>43.654260</td>\n",
       "      <td>-79.360636</td>\n",
       "    </tr>\n",
       "    <tr>\n",
       "      <th>5</th>\n",
       "      <td>M6A</td>\n",
       "      <td>North York</td>\n",
       "      <td>Lawrence Manor, Lawrence Heights</td>\n",
       "      <td>43.718518</td>\n",
       "      <td>-79.464763</td>\n",
       "    </tr>\n",
       "    <tr>\n",
       "      <th>6</th>\n",
       "      <td>M7A</td>\n",
       "      <td>Downtown Toronto</td>\n",
       "      <td>Queen's Park, Ontario Provincial Government</td>\n",
       "      <td>43.662301</td>\n",
       "      <td>-79.389494</td>\n",
       "    </tr>\n",
       "  </tbody>\n",
       "</table>\n",
       "</div>"
      ],
      "text/plain": [
       "  Postal Code           Borough                                Neighbourhood  \\\n",
       "2         M3A        North York                                    Parkwoods   \n",
       "3         M4A        North York                             Victoria Village   \n",
       "4         M5A  Downtown Toronto                    Regent Park, Harbourfront   \n",
       "5         M6A        North York             Lawrence Manor, Lawrence Heights   \n",
       "6         M7A  Downtown Toronto  Queen's Park, Ontario Provincial Government   \n",
       "\n",
       "    Latitude  Longitude  \n",
       "2  43.753259 -79.329656  \n",
       "3  43.725882 -79.315572  \n",
       "4  43.654260 -79.360636  \n",
       "5  43.718518 -79.464763  \n",
       "6  43.662301 -79.389494  "
      ]
     },
     "execution_count": 15,
     "metadata": {},
     "output_type": "execute_result"
    }
   ],
   "source": [
    "combined_data.head()"
   ]
  },
  {
   "cell_type": "markdown",
   "metadata": {},
   "source": [
    "**how many boroughs and neighborhoods are there?**"
   ]
  },
  {
   "cell_type": "code",
   "execution_count": 16,
   "metadata": {},
   "outputs": [
    {
     "name": "stdout",
     "output_type": "stream",
     "text": [
      "The dataframe has 10 boroughs and 103 neighbourhoods.\n"
     ]
    }
   ],
   "source": [
    "print('The dataframe has {} boroughs and {} neighbourhoods.'.format(\n",
    "        len(combined_data['Borough'].unique()),\n",
    "        combined_data.shape[0]\n",
    "    )\n",
    ")"
   ]
  },
  {
   "cell_type": "markdown",
   "metadata": {},
   "source": [
    "**use geopy library to get the latitude and longitude values of Toronto**"
   ]
  },
  {
   "cell_type": "code",
   "execution_count": 17,
   "metadata": {
    "colab": {
     "base_uri": "https://localhost:8080/",
     "height": 34
    },
    "colab_type": "code",
    "executionInfo": {
     "elapsed": 15543,
     "status": "ok",
     "timestamp": 1597498806514,
     "user": {
      "displayName": "Thomas George Thomas",
      "photoUrl": "https://lh3.googleusercontent.com/a-/AOh14GhRjmtno5yCmJOUjYiFNGHi_xP5YZBJ1ZpWGKsZ=s64",
      "userId": "09561174857978505545"
     },
     "user_tz": -330
    },
    "id": "9u5kNj_LTC5z",
    "outputId": "52eea32c-eb50-41d7-c163-71f0286c4954",
    "scrolled": true
   },
   "outputs": [
    {
     "name": "stdout",
     "output_type": "stream",
     "text": [
      "The geograpical coordinate of Toronto are 43.6534817, -79.3839347.\n"
     ]
    }
   ],
   "source": [
    "address = 'Toronto, Ontario'\n",
    "\n",
    "geolocator = Nominatim(user_agent=\"toronto_explorer\")\n",
    "location = geolocator.geocode(address)\n",
    "latitude = location.latitude\n",
    "longitude = location.longitude\n",
    "print('The geograpical coordinate of Toronto are {}, {}.'.format(latitude, longitude))"
   ]
  },
  {
   "cell_type": "markdown",
   "metadata": {
    "colab_type": "text",
    "id": "seiKLd-3Tfpm"
   },
   "source": [
    "**create a map of Toronto with neighborhoods superimposed on top**"
   ]
  },
  {
   "cell_type": "code",
   "execution_count": 18,
   "metadata": {
    "colab": {
     "base_uri": "https://localhost:8080/",
     "height": 743
    },
    "colab_type": "code",
    "executionInfo": {
     "elapsed": 1101,
     "status": "ok",
     "timestamp": 1597499445471,
     "user": {
      "displayName": "Thomas George Thomas",
      "photoUrl": "https://lh3.googleusercontent.com/a-/AOh14GhRjmtno5yCmJOUjYiFNGHi_xP5YZBJ1ZpWGKsZ=s64",
      "userId": "09561174857978505545"
     },
     "user_tz": -330
    },
    "id": "jD5bfsKvTbP0",
    "outputId": "fd95bb29-2e56-4111-8881-0b9a3094b627"
   },
   "outputs": [
    {
     "data": {
      "text/html": [
       "<div style=\"width:100%;\"><div style=\"position:relative;width:100%;height:0;padding-bottom:60%;\"><span style=\"color:#565656\">Make this Notebook Trusted to load map: File -> Trust Notebook</span><iframe src=\"about:blank\" style=\"position:absolute;width:100%;height:100%;left:0;top:0;border:none !important;\" data-html=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 onload=\"this.contentDocument.open();this.contentDocument.write(atob(this.getAttribute('data-html')));this.contentDocument.close();\" allowfullscreen webkitallowfullscreen mozallowfullscreen></iframe></div></div>"
      ],
      "text/plain": [
       "<folium.folium.Map at 0x22e39983cc8>"
      ]
     },
     "execution_count": 18,
     "metadata": {},
     "output_type": "execute_result"
    }
   ],
   "source": [
    "# Creating the map of Toronto\n",
    "map_Toronto = folium.Map(location=[latitude, longitude], zoom_start=11)\n",
    "\n",
    "# adding markers to map\n",
    "for latitude, longitude, borough, neighbourhood in zip(combined_data['Latitude'], combined_data['Longitude'], combined_data['Borough'], combined_data['Neighbourhood']):\n",
    "    label = '{}, {}'.format(neighbourhood, borough)\n",
    "    label = folium.Popup(label, parse_html=True)\n",
    "    folium.CircleMarker(\n",
    "        [latitude, longitude],\n",
    "        radius=5,\n",
    "        popup=label,\n",
    "        color='red',\n",
    "        fill=True\n",
    "        ).add_to(map_Toronto)  \n",
    "    \n",
    "map_Toronto"
   ]
  },
  {
   "cell_type": "markdown",
   "metadata": {
    "colab_type": "text",
    "id": "t33pXwdTV-1O"
   },
   "source": [
    "**initialize Foursquare API credentials**"
   ]
  },
  {
   "cell_type": "markdown",
   "metadata": {
    "colab": {
     "base_uri": "https://localhost:8080/",
     "height": 68
    },
    "colab_type": "code",
    "executionInfo": {
     "elapsed": 1055,
     "status": "ok",
     "timestamp": 1597498859413,
     "user": {
      "displayName": "Thomas George Thomas",
      "photoUrl": "https://lh3.googleusercontent.com/a-/AOh14GhRjmtno5yCmJOUjYiFNGHi_xP5YZBJ1ZpWGKsZ=s64",
      "userId": "09561174857978505545"
     },
     "user_tz": -330
    },
    "id": "h_3CK9wRT3rs",
    "outputId": "b761e330-40cd-44b6-e0e5-71248cba98fe"
   },
   "source": [
    "**(LINE 19 REMOVED TO PROTECT PRIVATE INFORMATION)**"
   ]
  },
  {
   "cell_type": "code",
   "execution_count": null,
   "metadata": {},
   "outputs": [],
   "source": [
    "CLIENT_ID = 'ABCDEFGHIJKLMNO12345678902MPBR53UIDGTXUV0F1KSO4A' \n",
    "CLIENT_SECRET = 'ABCDEFGHIJKLMNO1234567890GK3AHIQZRODW3Q5PJHR0TQB'\n",
    "VERSION = '20180605' # Foursquare API version"
   ]
  },
  {
   "cell_type": "markdown",
   "metadata": {
    "colab_type": "text",
    "id": "hqjYx2M1WW-c"
   },
   "source": [
    "**create a function to get all the venue categories in Toronto**"
   ]
  },
  {
   "cell_type": "code",
   "execution_count": 20,
   "metadata": {
    "colab": {},
    "colab_type": "code",
    "executionInfo": {
     "elapsed": 1182,
     "status": "ok",
     "timestamp": 1597498863148,
     "user": {
      "displayName": "Thomas George Thomas",
      "photoUrl": "https://lh3.googleusercontent.com/a-/AOh14GhRjmtno5yCmJOUjYiFNGHi_xP5YZBJ1ZpWGKsZ=s64",
      "userId": "09561174857978505545"
     },
     "user_tz": -330
    },
    "id": "eEzXOTWNWLi0"
   },
   "outputs": [],
   "source": [
    "def getNearbyVenues(names, latitudes, longitudes, radius=500):\n",
    "    \n",
    "    venues_list=[]\n",
    "    for name, lat, lng in zip(names, latitudes, longitudes):\n",
    "        print(name) # comment to avoid displaying all names\n",
    "            \n",
    "        # create the API request URL\n",
    "        url = 'https://api.foursquare.com/v2/venues/explore?&client_id={}&client_secret={}&v={}&ll={},{}&radius={}'.format(\n",
    "            CLIENT_ID, \n",
    "            CLIENT_SECRET, \n",
    "            VERSION, \n",
    "            lat, \n",
    "            lng, \n",
    "            radius\n",
    "            )\n",
    "            \n",
    "        # make the GET request\n",
    "        results = requests.get(url).json()[\"response\"]['groups'][0]['items']\n",
    "        \n",
    "        # return only relevant information for each nearby venue\n",
    "        venues_list.append([(\n",
    "            name, \n",
    "            lat, \n",
    "            lng, \n",
    "            v['venue']['name'], \n",
    "            v['venue']['categories'][0]['name']) for v in results])\n",
    "\n",
    "    nearby_venues = pd.DataFrame([item for venue_list in venues_list for item in venue_list])\n",
    "    nearby_venues.columns = ['Neighbourhood', \n",
    "                  'Neighbourhood Latitude', \n",
    "                  'Neighbourhood Longitude', \n",
    "                  'Venue', \n",
    "                  'Venue Category']\n",
    "    \n",
    "    return(nearby_venues)"
   ]
  },
  {
   "cell_type": "markdown",
   "metadata": {
    "colab_type": "text",
    "id": "r3C3JQ6XW7Uk"
   },
   "source": [
    "**collect the venues in Toronto for each Neighbourhood**"
   ]
  },
  {
   "cell_type": "code",
   "execution_count": 21,
   "metadata": {
    "colab": {
     "base_uri": "https://localhost:8080/",
     "height": 1000
    },
    "colab_type": "code",
    "executionInfo": {
     "elapsed": 85413,
     "status": "ok",
     "timestamp": 1597498951143,
     "user": {
      "displayName": "Thomas George Thomas",
      "photoUrl": "https://lh3.googleusercontent.com/a-/AOh14GhRjmtno5yCmJOUjYiFNGHi_xP5YZBJ1ZpWGKsZ=s64",
      "userId": "09561174857978505545"
     },
     "user_tz": -330
    },
    "id": "sNSD-GGpW5Ak",
    "outputId": "57d4cd08-5fae-4d3d-a095-995683e6d34d"
   },
   "outputs": [
    {
     "name": "stdout",
     "output_type": "stream",
     "text": [
      "Parkwoods\n",
      "Victoria Village\n",
      "Regent Park, Harbourfront\n",
      "Lawrence Manor, Lawrence Heights\n",
      "Queen's Park, Ontario Provincial Government\n",
      "Islington Avenue, Humber Valley Village\n",
      "Malvern, Rouge\n",
      "Don Mills\n",
      "Parkview Hill, Woodbine Gardens\n",
      "Garden District, Ryerson\n",
      "Glencairn\n",
      "West Deane Park, Princess Gardens, Martin Grove, Islington, Cloverdale\n",
      "Rouge Hill, Port Union, Highland Creek\n",
      "Don Mills\n",
      "Woodbine Heights\n",
      "St. James Town\n",
      "Humewood-Cedarvale\n",
      "Eringate, Bloordale Gardens, Old Burnhamthorpe, Markland Wood\n",
      "Guildwood, Morningside, West Hill\n",
      "The Beaches\n",
      "Berczy Park\n",
      "Caledonia-Fairbanks\n",
      "Woburn\n",
      "Leaside\n",
      "Central Bay Street\n",
      "Christie\n",
      "Cedarbrae\n",
      "Hillcrest Village\n",
      "Bathurst Manor, Wilson Heights, Downsview North\n",
      "Thorncliffe Park\n",
      "Richmond, Adelaide, King\n",
      "Dufferin, Dovercourt Village\n",
      "Scarborough Village\n",
      "Fairview, Henry Farm, Oriole\n",
      "Northwood Park, York University\n",
      "East Toronto, Broadview North (Old East York)\n",
      "Harbourfront East, Union Station, Toronto Islands\n",
      "Little Portugal, Trinity\n",
      "Kennedy Park, Ionview, East Birchmount Park\n",
      "Bayview Village\n",
      "Downsview\n",
      "The Danforth West, Riverdale\n",
      "Toronto Dominion Centre, Design Exchange\n",
      "Brockton, Parkdale Village, Exhibition Place\n",
      "Golden Mile, Clairlea, Oakridge\n",
      "York Mills, Silver Hills\n",
      "Downsview\n",
      "India Bazaar, The Beaches West\n",
      "Commerce Court, Victoria Hotel\n",
      "North Park, Maple Leaf Park, Upwood Park\n",
      "Humber Summit\n",
      "Cliffside, Cliffcrest, Scarborough Village West\n",
      "Willowdale, Newtonbrook\n",
      "Downsview\n",
      "Studio District\n",
      "Bedford Park, Lawrence Manor East\n",
      "Del Ray, Mount Dennis, Keelsdale and Silverthorn\n",
      "Humberlea, Emery\n",
      "Birch Cliff, Cliffside West\n",
      "Willowdale, Willowdale East\n",
      "Downsview\n",
      "Lawrence Park\n",
      "Roselawn\n",
      "Runnymede, The Junction North\n",
      "Weston\n",
      "Dorset Park, Wexford Heights, Scarborough Town Centre\n",
      "York Mills West\n",
      "Davisville North\n",
      "Forest Hill North & West, Forest Hill Road Park\n",
      "High Park, The Junction South\n",
      "Westmount\n",
      "Wexford, Maryvale\n",
      "Willowdale, Willowdale West\n",
      "North Toronto West, Lawrence Park\n",
      "The Annex, North Midtown, Yorkville\n",
      "Parkdale, Roncesvalles\n",
      "Canada Post Gateway Processing Centre\n",
      "Kingsview Village, St. Phillips, Martin Grove Gardens, Richview Gardens\n",
      "Agincourt\n",
      "Davisville\n",
      "University of Toronto, Harbord\n",
      "Runnymede, Swansea\n",
      "Clarks Corners, Tam O'Shanter, Sullivan\n",
      "Moore Park, Summerhill East\n",
      "Kensington Market, Chinatown, Grange Park\n",
      "Milliken, Agincourt North, Steeles East, L'Amoreaux East\n",
      "Summerhill West, Rathnelly, South Hill, Forest Hill SE, Deer Park\n",
      "CN Tower, King and Spadina, Railway Lands, Harbourfront West, Bathurst Quay, South Niagara, Island airport\n",
      "New Toronto, Mimico South, Humber Bay Shores\n",
      "South Steeles, Silverstone, Humbergate, Jamestown, Mount Olive, Beaumond Heights, Thistletown, Albion Gardens\n",
      "Steeles West, L'Amoreaux West\n",
      "Rosedale\n",
      "Stn A PO Boxes\n",
      "Alderwood, Long Branch\n",
      "Northwest, West Humber - Clairville\n",
      "Upper Rouge\n",
      "St. James Town, Cabbagetown\n",
      "First Canadian Place, Underground city\n",
      "The Kingsway, Montgomery Road, Old Mill North\n",
      "Church and Wellesley\n",
      "Business reply mail Processing Centre, South Central Letter Processing Plant Toronto\n",
      "Old Mill South, King's Mill Park, Sunnylea, Humber Bay, Mimico NE, The Queensway East, Royal York South East, Kingsway Park South East\n",
      "Mimico NW, The Queensway West, South of Bloor, Kingsway Park South West, Royal York South West\n"
     ]
    }
   ],
   "source": [
    "venues_in_toronto = getNearbyVenues(combined_data['Neighbourhood'], combined_data['Latitude'], combined_data['Longitude'])"
   ]
  },
  {
   "cell_type": "code",
   "execution_count": 22,
   "metadata": {},
   "outputs": [
    {
     "data": {
      "text/plain": [
       "(1318, 5)"
      ]
     },
     "execution_count": 22,
     "metadata": {},
     "output_type": "execute_result"
    }
   ],
   "source": [
    "venues_in_toronto.shape"
   ]
  },
  {
   "cell_type": "code",
   "execution_count": 23,
   "metadata": {
    "colab": {
     "base_uri": "https://localhost:8080/",
     "height": 204
    },
    "colab_type": "code",
    "executionInfo": {
     "elapsed": 1037,
     "status": "ok",
     "timestamp": 1597498952237,
     "user": {
      "displayName": "Thomas George Thomas",
      "photoUrl": "https://lh3.googleusercontent.com/a-/AOh14GhRjmtno5yCmJOUjYiFNGHi_xP5YZBJ1ZpWGKsZ=s64",
      "userId": "09561174857978505545"
     },
     "user_tz": -330
    },
    "id": "y87jJksZZvE9",
    "outputId": "fb1d0e7f-6651-4b5c-bd4f-b0465d33fe46"
   },
   "outputs": [
    {
     "data": {
      "text/html": [
       "<div>\n",
       "<style scoped>\n",
       "    .dataframe tbody tr th:only-of-type {\n",
       "        vertical-align: middle;\n",
       "    }\n",
       "\n",
       "    .dataframe tbody tr th {\n",
       "        vertical-align: top;\n",
       "    }\n",
       "\n",
       "    .dataframe thead th {\n",
       "        text-align: right;\n",
       "    }\n",
       "</style>\n",
       "<table border=\"1\" class=\"dataframe\">\n",
       "  <thead>\n",
       "    <tr style=\"text-align: right;\">\n",
       "      <th></th>\n",
       "      <th>Neighbourhood</th>\n",
       "      <th>Neighbourhood Latitude</th>\n",
       "      <th>Neighbourhood Longitude</th>\n",
       "      <th>Venue</th>\n",
       "      <th>Venue Category</th>\n",
       "    </tr>\n",
       "  </thead>\n",
       "  <tbody>\n",
       "    <tr>\n",
       "      <th>0</th>\n",
       "      <td>Parkwoods</td>\n",
       "      <td>43.753259</td>\n",
       "      <td>-79.329656</td>\n",
       "      <td>Brookbanks Park</td>\n",
       "      <td>Park</td>\n",
       "    </tr>\n",
       "    <tr>\n",
       "      <th>1</th>\n",
       "      <td>Parkwoods</td>\n",
       "      <td>43.753259</td>\n",
       "      <td>-79.329656</td>\n",
       "      <td>Variety Store</td>\n",
       "      <td>Food &amp; Drink Shop</td>\n",
       "    </tr>\n",
       "    <tr>\n",
       "      <th>2</th>\n",
       "      <td>Victoria Village</td>\n",
       "      <td>43.725882</td>\n",
       "      <td>-79.315572</td>\n",
       "      <td>Victoria Village Arena</td>\n",
       "      <td>Hockey Arena</td>\n",
       "    </tr>\n",
       "    <tr>\n",
       "      <th>3</th>\n",
       "      <td>Victoria Village</td>\n",
       "      <td>43.725882</td>\n",
       "      <td>-79.315572</td>\n",
       "      <td>Portugril</td>\n",
       "      <td>Portuguese Restaurant</td>\n",
       "    </tr>\n",
       "    <tr>\n",
       "      <th>4</th>\n",
       "      <td>Victoria Village</td>\n",
       "      <td>43.725882</td>\n",
       "      <td>-79.315572</td>\n",
       "      <td>Tim Hortons</td>\n",
       "      <td>Coffee Shop</td>\n",
       "    </tr>\n",
       "  </tbody>\n",
       "</table>\n",
       "</div>"
      ],
      "text/plain": [
       "      Neighbourhood  Neighbourhood Latitude  Neighbourhood Longitude  \\\n",
       "0         Parkwoods               43.753259               -79.329656   \n",
       "1         Parkwoods               43.753259               -79.329656   \n",
       "2  Victoria Village               43.725882               -79.315572   \n",
       "3  Victoria Village               43.725882               -79.315572   \n",
       "4  Victoria Village               43.725882               -79.315572   \n",
       "\n",
       "                    Venue         Venue Category  \n",
       "0         Brookbanks Park                   Park  \n",
       "1           Variety Store      Food & Drink Shop  \n",
       "2  Victoria Village Arena           Hockey Arena  \n",
       "3               Portugril  Portuguese Restaurant  \n",
       "4             Tim Hortons            Coffee Shop  "
      ]
     },
     "execution_count": 23,
     "metadata": {},
     "output_type": "execute_result"
    }
   ],
   "source": [
    "venues_in_toronto.head()"
   ]
  },
  {
   "cell_type": "markdown",
   "metadata": {
    "colab_type": "text",
    "id": "p3TmnMe1edmz"
   },
   "source": [
    "**group venues by Neighbourhood**"
   ]
  },
  {
   "cell_type": "code",
   "execution_count": 24,
   "metadata": {
    "colab": {
     "base_uri": "https://localhost:8080/",
     "height": 419
    },
    "colab_type": "code",
    "executionInfo": {
     "elapsed": 1022,
     "status": "ok",
     "timestamp": 1597498952239,
     "user": {
      "displayName": "Thomas George Thomas",
      "photoUrl": "https://lh3.googleusercontent.com/a-/AOh14GhRjmtno5yCmJOUjYiFNGHi_xP5YZBJ1ZpWGKsZ=s64",
      "userId": "09561174857978505545"
     },
     "user_tz": -330
    },
    "id": "_EYXBqxkZ7E3",
    "outputId": "94e45678-836b-4e10-d7ef-e47dcc6ebf4c"
   },
   "outputs": [
    {
     "data": {
      "text/html": [
       "<div>\n",
       "<style scoped>\n",
       "    .dataframe tbody tr th:only-of-type {\n",
       "        vertical-align: middle;\n",
       "    }\n",
       "\n",
       "    .dataframe tbody tr th {\n",
       "        vertical-align: top;\n",
       "    }\n",
       "\n",
       "    .dataframe thead th {\n",
       "        text-align: right;\n",
       "    }\n",
       "</style>\n",
       "<table border=\"1\" class=\"dataframe\">\n",
       "  <thead>\n",
       "    <tr style=\"text-align: right;\">\n",
       "      <th></th>\n",
       "      <th>Neighbourhood</th>\n",
       "      <th>Neighbourhood Latitude</th>\n",
       "      <th>Neighbourhood Longitude</th>\n",
       "      <th>Venue</th>\n",
       "      <th>Venue Category</th>\n",
       "    </tr>\n",
       "  </thead>\n",
       "  <tbody>\n",
       "    <tr>\n",
       "      <th>0</th>\n",
       "      <td>Parkwoods</td>\n",
       "      <td>43.753259</td>\n",
       "      <td>-79.329656</td>\n",
       "      <td>Brookbanks Park</td>\n",
       "      <td>Park</td>\n",
       "    </tr>\n",
       "    <tr>\n",
       "      <th>1</th>\n",
       "      <td>Parkwoods</td>\n",
       "      <td>43.753259</td>\n",
       "      <td>-79.329656</td>\n",
       "      <td>Variety Store</td>\n",
       "      <td>Food &amp; Drink Shop</td>\n",
       "    </tr>\n",
       "    <tr>\n",
       "      <th>2</th>\n",
       "      <td>Victoria Village</td>\n",
       "      <td>43.725882</td>\n",
       "      <td>-79.315572</td>\n",
       "      <td>Victoria Village Arena</td>\n",
       "      <td>Hockey Arena</td>\n",
       "    </tr>\n",
       "    <tr>\n",
       "      <th>3</th>\n",
       "      <td>Victoria Village</td>\n",
       "      <td>43.725882</td>\n",
       "      <td>-79.315572</td>\n",
       "      <td>Portugril</td>\n",
       "      <td>Portuguese Restaurant</td>\n",
       "    </tr>\n",
       "    <tr>\n",
       "      <th>4</th>\n",
       "      <td>Victoria Village</td>\n",
       "      <td>43.725882</td>\n",
       "      <td>-79.315572</td>\n",
       "      <td>Tim Hortons</td>\n",
       "      <td>Coffee Shop</td>\n",
       "    </tr>\n",
       "    <tr>\n",
       "      <th>...</th>\n",
       "      <td>...</td>\n",
       "      <td>...</td>\n",
       "      <td>...</td>\n",
       "      <td>...</td>\n",
       "      <td>...</td>\n",
       "    </tr>\n",
       "    <tr>\n",
       "      <th>1305</th>\n",
       "      <td>Mimico NW, The Queensway West, South of Bloor,...</td>\n",
       "      <td>43.628841</td>\n",
       "      <td>-79.520999</td>\n",
       "      <td>Wingporium</td>\n",
       "      <td>Wings Joint</td>\n",
       "    </tr>\n",
       "    <tr>\n",
       "      <th>1306</th>\n",
       "      <td>Mimico NW, The Queensway West, South of Bloor,...</td>\n",
       "      <td>43.628841</td>\n",
       "      <td>-79.520999</td>\n",
       "      <td>South St. Burger</td>\n",
       "      <td>Burger Joint</td>\n",
       "    </tr>\n",
       "    <tr>\n",
       "      <th>1307</th>\n",
       "      <td>Mimico NW, The Queensway West, South of Bloor,...</td>\n",
       "      <td>43.628841</td>\n",
       "      <td>-79.520999</td>\n",
       "      <td>Dollarama</td>\n",
       "      <td>Discount Store</td>\n",
       "    </tr>\n",
       "    <tr>\n",
       "      <th>1308</th>\n",
       "      <td>Mimico NW, The Queensway West, South of Bloor,...</td>\n",
       "      <td>43.628841</td>\n",
       "      <td>-79.520999</td>\n",
       "      <td>Healthy Planet</td>\n",
       "      <td>Supplement Shop</td>\n",
       "    </tr>\n",
       "    <tr>\n",
       "      <th>1309</th>\n",
       "      <td>Mimico NW, The Queensway West, South of Bloor,...</td>\n",
       "      <td>43.628841</td>\n",
       "      <td>-79.520999</td>\n",
       "      <td>Artisano Bakery Café</td>\n",
       "      <td>Bakery</td>\n",
       "    </tr>\n",
       "  </tbody>\n",
       "</table>\n",
       "<p>409 rows × 5 columns</p>\n",
       "</div>"
      ],
      "text/plain": [
       "                                          Neighbourhood  \\\n",
       "0                                             Parkwoods   \n",
       "1                                             Parkwoods   \n",
       "2                                      Victoria Village   \n",
       "3                                      Victoria Village   \n",
       "4                                      Victoria Village   \n",
       "...                                                 ...   \n",
       "1305  Mimico NW, The Queensway West, South of Bloor,...   \n",
       "1306  Mimico NW, The Queensway West, South of Bloor,...   \n",
       "1307  Mimico NW, The Queensway West, South of Bloor,...   \n",
       "1308  Mimico NW, The Queensway West, South of Bloor,...   \n",
       "1309  Mimico NW, The Queensway West, South of Bloor,...   \n",
       "\n",
       "      Neighbourhood Latitude  Neighbourhood Longitude                   Venue  \\\n",
       "0                  43.753259               -79.329656         Brookbanks Park   \n",
       "1                  43.753259               -79.329656           Variety Store   \n",
       "2                  43.725882               -79.315572  Victoria Village Arena   \n",
       "3                  43.725882               -79.315572               Portugril   \n",
       "4                  43.725882               -79.315572             Tim Hortons   \n",
       "...                      ...                      ...                     ...   \n",
       "1305               43.628841               -79.520999              Wingporium   \n",
       "1306               43.628841               -79.520999        South St. Burger   \n",
       "1307               43.628841               -79.520999               Dollarama   \n",
       "1308               43.628841               -79.520999          Healthy Planet   \n",
       "1309               43.628841               -79.520999    Artisano Bakery Café   \n",
       "\n",
       "             Venue Category  \n",
       "0                      Park  \n",
       "1         Food & Drink Shop  \n",
       "2              Hockey Arena  \n",
       "3     Portuguese Restaurant  \n",
       "4               Coffee Shop  \n",
       "...                     ...  \n",
       "1305            Wings Joint  \n",
       "1306           Burger Joint  \n",
       "1307         Discount Store  \n",
       "1308        Supplement Shop  \n",
       "1309                 Bakery  \n",
       "\n",
       "[409 rows x 5 columns]"
      ]
     },
     "execution_count": 24,
     "metadata": {},
     "output_type": "execute_result"
    }
   ],
   "source": [
    "venues_in_toronto.groupby('Neighbourhood').head()"
   ]
  },
  {
   "cell_type": "markdown",
   "metadata": {
    "colab_type": "text",
    "id": "uVLIXh3HepjM"
   },
   "source": [
    "Checking for the maximum venue categories"
   ]
  },
  {
   "cell_type": "code",
   "execution_count": 25,
   "metadata": {
    "colab": {
     "base_uri": "https://localhost:8080/",
     "height": 450
    },
    "colab_type": "code",
    "executionInfo": {
     "elapsed": 1339,
     "status": "ok",
     "timestamp": 1597498952571,
     "user": {
      "displayName": "Thomas George Thomas",
      "photoUrl": "https://lh3.googleusercontent.com/a-/AOh14GhRjmtno5yCmJOUjYiFNGHi_xP5YZBJ1ZpWGKsZ=s64",
      "userId": "09561174857978505545"
     },
     "user_tz": -330
    },
    "id": "OelLBmpbc-0a",
    "outputId": "d40cbf01-0c93-421d-892e-808752e4555a"
   },
   "outputs": [
    {
     "data": {
      "text/html": [
       "<div>\n",
       "<style scoped>\n",
       "    .dataframe tbody tr th:only-of-type {\n",
       "        vertical-align: middle;\n",
       "    }\n",
       "\n",
       "    .dataframe tbody tr th {\n",
       "        vertical-align: top;\n",
       "    }\n",
       "\n",
       "    .dataframe thead th {\n",
       "        text-align: right;\n",
       "    }\n",
       "</style>\n",
       "<table border=\"1\" class=\"dataframe\">\n",
       "  <thead>\n",
       "    <tr style=\"text-align: right;\">\n",
       "      <th></th>\n",
       "      <th>Neighbourhood</th>\n",
       "      <th>Neighbourhood Latitude</th>\n",
       "      <th>Neighbourhood Longitude</th>\n",
       "      <th>Venue</th>\n",
       "    </tr>\n",
       "    <tr>\n",
       "      <th>Venue Category</th>\n",
       "      <th></th>\n",
       "      <th></th>\n",
       "      <th></th>\n",
       "      <th></th>\n",
       "    </tr>\n",
       "  </thead>\n",
       "  <tbody>\n",
       "    <tr>\n",
       "      <th>Accessories Store</th>\n",
       "      <td>Lawrence Manor, Lawrence Heights</td>\n",
       "      <td>43.718518</td>\n",
       "      <td>-79.464763</td>\n",
       "      <td>Ardene Shoes Outlet</td>\n",
       "    </tr>\n",
       "    <tr>\n",
       "      <th>Airport</th>\n",
       "      <td>Downsview</td>\n",
       "      <td>43.737473</td>\n",
       "      <td>-79.394420</td>\n",
       "      <td>Toronto Downsview Airport (YZD)</td>\n",
       "    </tr>\n",
       "    <tr>\n",
       "      <th>Airport Food Court</th>\n",
       "      <td>CN Tower, King and Spadina, Railway Lands, Har...</td>\n",
       "      <td>43.628947</td>\n",
       "      <td>-79.394420</td>\n",
       "      <td>Billy Bishop Café</td>\n",
       "    </tr>\n",
       "    <tr>\n",
       "      <th>Airport Lounge</th>\n",
       "      <td>CN Tower, King and Spadina, Railway Lands, Har...</td>\n",
       "      <td>43.628947</td>\n",
       "      <td>-79.394420</td>\n",
       "      <td>Porter Lounge</td>\n",
       "    </tr>\n",
       "    <tr>\n",
       "      <th>Airport Service</th>\n",
       "      <td>CN Tower, King and Spadina, Railway Lands, Har...</td>\n",
       "      <td>43.628947</td>\n",
       "      <td>-79.394420</td>\n",
       "      <td>Porter Airlines Check-In Counter</td>\n",
       "    </tr>\n",
       "    <tr>\n",
       "      <th>...</th>\n",
       "      <td>...</td>\n",
       "      <td>...</td>\n",
       "      <td>...</td>\n",
       "      <td>...</td>\n",
       "    </tr>\n",
       "    <tr>\n",
       "      <th>Warehouse Store</th>\n",
       "      <td>Thorncliffe Park</td>\n",
       "      <td>43.705369</td>\n",
       "      <td>-79.349372</td>\n",
       "      <td>Costco</td>\n",
       "    </tr>\n",
       "    <tr>\n",
       "      <th>Wine Bar</th>\n",
       "      <td>Toronto Dominion Centre, Design Exchange</td>\n",
       "      <td>43.653206</td>\n",
       "      <td>-79.379817</td>\n",
       "      <td>The National Club</td>\n",
       "    </tr>\n",
       "    <tr>\n",
       "      <th>Wings Joint</th>\n",
       "      <td>Mimico NW, The Queensway West, South of Bloor,...</td>\n",
       "      <td>43.628841</td>\n",
       "      <td>-79.520999</td>\n",
       "      <td>Wingporium</td>\n",
       "    </tr>\n",
       "    <tr>\n",
       "      <th>Women's Store</th>\n",
       "      <td>Caledonia-Fairbanks</td>\n",
       "      <td>43.689026</td>\n",
       "      <td>-79.453512</td>\n",
       "      <td>Maximum Woman</td>\n",
       "    </tr>\n",
       "    <tr>\n",
       "      <th>Yoga Studio</th>\n",
       "      <td>University of Toronto, Harbord</td>\n",
       "      <td>43.715383</td>\n",
       "      <td>-79.340923</td>\n",
       "      <td>YogaSpace</td>\n",
       "    </tr>\n",
       "  </tbody>\n",
       "</table>\n",
       "<p>237 rows × 4 columns</p>\n",
       "</div>"
      ],
      "text/plain": [
       "                                                        Neighbourhood  \\\n",
       "Venue Category                                                          \n",
       "Accessories Store                    Lawrence Manor, Lawrence Heights   \n",
       "Airport                                                     Downsview   \n",
       "Airport Food Court  CN Tower, King and Spadina, Railway Lands, Har...   \n",
       "Airport Lounge      CN Tower, King and Spadina, Railway Lands, Har...   \n",
       "Airport Service     CN Tower, King and Spadina, Railway Lands, Har...   \n",
       "...                                                               ...   \n",
       "Warehouse Store                                      Thorncliffe Park   \n",
       "Wine Bar                     Toronto Dominion Centre, Design Exchange   \n",
       "Wings Joint         Mimico NW, The Queensway West, South of Bloor,...   \n",
       "Women's Store                                     Caledonia-Fairbanks   \n",
       "Yoga Studio                            University of Toronto, Harbord   \n",
       "\n",
       "                    Neighbourhood Latitude  Neighbourhood Longitude  \\\n",
       "Venue Category                                                        \n",
       "Accessories Store                43.718518               -79.464763   \n",
       "Airport                          43.737473               -79.394420   \n",
       "Airport Food Court               43.628947               -79.394420   \n",
       "Airport Lounge                   43.628947               -79.394420   \n",
       "Airport Service                  43.628947               -79.394420   \n",
       "...                                    ...                      ...   \n",
       "Warehouse Store                  43.705369               -79.349372   \n",
       "Wine Bar                         43.653206               -79.379817   \n",
       "Wings Joint                      43.628841               -79.520999   \n",
       "Women's Store                    43.689026               -79.453512   \n",
       "Yoga Studio                      43.715383               -79.340923   \n",
       "\n",
       "                                               Venue  \n",
       "Venue Category                                        \n",
       "Accessories Store                Ardene Shoes Outlet  \n",
       "Airport              Toronto Downsview Airport (YZD)  \n",
       "Airport Food Court                 Billy Bishop Café  \n",
       "Airport Lounge                         Porter Lounge  \n",
       "Airport Service     Porter Airlines Check-In Counter  \n",
       "...                                              ...  \n",
       "Warehouse Store                               Costco  \n",
       "Wine Bar                           The National Club  \n",
       "Wings Joint                               Wingporium  \n",
       "Women's Store                          Maximum Woman  \n",
       "Yoga Studio                                YogaSpace  \n",
       "\n",
       "[237 rows x 4 columns]"
      ]
     },
     "execution_count": 25,
     "metadata": {},
     "output_type": "execute_result"
    }
   ],
   "source": [
    "venues_in_toronto.groupby('Venue Category').max()"
   ]
  },
  {
   "cell_type": "markdown",
   "metadata": {
    "colab_type": "text",
    "id": "8Zz5ulsMfDOK"
   },
   "source": [
    "**237 different types of Venue Categories**"
   ]
  },
  {
   "cell_type": "markdown",
   "metadata": {
    "colab_type": "text",
    "id": "jm_UpNpLf7CL"
   },
   "source": [
    "### **Perform a One Hot encoding on venue categories**"
   ]
  },
  {
   "cell_type": "code",
   "execution_count": 26,
   "metadata": {
    "colab": {
     "base_uri": "https://localhost:8080/",
     "height": 473
    },
    "colab_type": "code",
    "executionInfo": {
     "elapsed": 1325,
     "status": "ok",
     "timestamp": 1597498952572,
     "user": {
      "displayName": "Thomas George Thomas",
      "photoUrl": "https://lh3.googleusercontent.com/a-/AOh14GhRjmtno5yCmJOUjYiFNGHi_xP5YZBJ1ZpWGKsZ=s64",
      "userId": "09561174857978505545"
     },
     "user_tz": -330
    },
    "id": "JfBRo4eqe3Pt",
    "outputId": "513e4630-dfb0-4fc6-b8e6-0e03409208a6"
   },
   "outputs": [
    {
     "data": {
      "text/html": [
       "<div>\n",
       "<style scoped>\n",
       "    .dataframe tbody tr th:only-of-type {\n",
       "        vertical-align: middle;\n",
       "    }\n",
       "\n",
       "    .dataframe tbody tr th {\n",
       "        vertical-align: top;\n",
       "    }\n",
       "\n",
       "    .dataframe thead th {\n",
       "        text-align: right;\n",
       "    }\n",
       "</style>\n",
       "<table border=\"1\" class=\"dataframe\">\n",
       "  <thead>\n",
       "    <tr style=\"text-align: right;\">\n",
       "      <th></th>\n",
       "      <th>Accessories Store</th>\n",
       "      <th>Airport</th>\n",
       "      <th>Airport Food Court</th>\n",
       "      <th>Airport Lounge</th>\n",
       "      <th>Airport Service</th>\n",
       "      <th>Airport Terminal</th>\n",
       "      <th>American Restaurant</th>\n",
       "      <th>Antique Shop</th>\n",
       "      <th>Aquarium</th>\n",
       "      <th>Art Gallery</th>\n",
       "      <th>...</th>\n",
       "      <th>Train Station</th>\n",
       "      <th>Truck Stop</th>\n",
       "      <th>Vegetarian / Vegan Restaurant</th>\n",
       "      <th>Video Game Store</th>\n",
       "      <th>Vietnamese Restaurant</th>\n",
       "      <th>Warehouse Store</th>\n",
       "      <th>Wine Bar</th>\n",
       "      <th>Wings Joint</th>\n",
       "      <th>Women's Store</th>\n",
       "      <th>Yoga Studio</th>\n",
       "    </tr>\n",
       "  </thead>\n",
       "  <tbody>\n",
       "    <tr>\n",
       "      <th>0</th>\n",
       "      <td>0</td>\n",
       "      <td>0</td>\n",
       "      <td>0</td>\n",
       "      <td>0</td>\n",
       "      <td>0</td>\n",
       "      <td>0</td>\n",
       "      <td>0</td>\n",
       "      <td>0</td>\n",
       "      <td>0</td>\n",
       "      <td>0</td>\n",
       "      <td>...</td>\n",
       "      <td>0</td>\n",
       "      <td>0</td>\n",
       "      <td>0</td>\n",
       "      <td>0</td>\n",
       "      <td>0</td>\n",
       "      <td>0</td>\n",
       "      <td>0</td>\n",
       "      <td>0</td>\n",
       "      <td>0</td>\n",
       "      <td>0</td>\n",
       "    </tr>\n",
       "    <tr>\n",
       "      <th>1</th>\n",
       "      <td>0</td>\n",
       "      <td>0</td>\n",
       "      <td>0</td>\n",
       "      <td>0</td>\n",
       "      <td>0</td>\n",
       "      <td>0</td>\n",
       "      <td>0</td>\n",
       "      <td>0</td>\n",
       "      <td>0</td>\n",
       "      <td>0</td>\n",
       "      <td>...</td>\n",
       "      <td>0</td>\n",
       "      <td>0</td>\n",
       "      <td>0</td>\n",
       "      <td>0</td>\n",
       "      <td>0</td>\n",
       "      <td>0</td>\n",
       "      <td>0</td>\n",
       "      <td>0</td>\n",
       "      <td>0</td>\n",
       "      <td>0</td>\n",
       "    </tr>\n",
       "    <tr>\n",
       "      <th>2</th>\n",
       "      <td>0</td>\n",
       "      <td>0</td>\n",
       "      <td>0</td>\n",
       "      <td>0</td>\n",
       "      <td>0</td>\n",
       "      <td>0</td>\n",
       "      <td>0</td>\n",
       "      <td>0</td>\n",
       "      <td>0</td>\n",
       "      <td>0</td>\n",
       "      <td>...</td>\n",
       "      <td>0</td>\n",
       "      <td>0</td>\n",
       "      <td>0</td>\n",
       "      <td>0</td>\n",
       "      <td>0</td>\n",
       "      <td>0</td>\n",
       "      <td>0</td>\n",
       "      <td>0</td>\n",
       "      <td>0</td>\n",
       "      <td>0</td>\n",
       "    </tr>\n",
       "    <tr>\n",
       "      <th>3</th>\n",
       "      <td>0</td>\n",
       "      <td>0</td>\n",
       "      <td>0</td>\n",
       "      <td>0</td>\n",
       "      <td>0</td>\n",
       "      <td>0</td>\n",
       "      <td>0</td>\n",
       "      <td>0</td>\n",
       "      <td>0</td>\n",
       "      <td>0</td>\n",
       "      <td>...</td>\n",
       "      <td>0</td>\n",
       "      <td>0</td>\n",
       "      <td>0</td>\n",
       "      <td>0</td>\n",
       "      <td>0</td>\n",
       "      <td>0</td>\n",
       "      <td>0</td>\n",
       "      <td>0</td>\n",
       "      <td>0</td>\n",
       "      <td>0</td>\n",
       "    </tr>\n",
       "    <tr>\n",
       "      <th>4</th>\n",
       "      <td>0</td>\n",
       "      <td>0</td>\n",
       "      <td>0</td>\n",
       "      <td>0</td>\n",
       "      <td>0</td>\n",
       "      <td>0</td>\n",
       "      <td>0</td>\n",
       "      <td>0</td>\n",
       "      <td>0</td>\n",
       "      <td>0</td>\n",
       "      <td>...</td>\n",
       "      <td>0</td>\n",
       "      <td>0</td>\n",
       "      <td>0</td>\n",
       "      <td>0</td>\n",
       "      <td>0</td>\n",
       "      <td>0</td>\n",
       "      <td>0</td>\n",
       "      <td>0</td>\n",
       "      <td>0</td>\n",
       "      <td>0</td>\n",
       "    </tr>\n",
       "    <tr>\n",
       "      <th>...</th>\n",
       "      <td>...</td>\n",
       "      <td>...</td>\n",
       "      <td>...</td>\n",
       "      <td>...</td>\n",
       "      <td>...</td>\n",
       "      <td>...</td>\n",
       "      <td>...</td>\n",
       "      <td>...</td>\n",
       "      <td>...</td>\n",
       "      <td>...</td>\n",
       "      <td>...</td>\n",
       "      <td>...</td>\n",
       "      <td>...</td>\n",
       "      <td>...</td>\n",
       "      <td>...</td>\n",
       "      <td>...</td>\n",
       "      <td>...</td>\n",
       "      <td>...</td>\n",
       "      <td>...</td>\n",
       "      <td>...</td>\n",
       "      <td>...</td>\n",
       "    </tr>\n",
       "    <tr>\n",
       "      <th>1313</th>\n",
       "      <td>0</td>\n",
       "      <td>0</td>\n",
       "      <td>0</td>\n",
       "      <td>0</td>\n",
       "      <td>0</td>\n",
       "      <td>0</td>\n",
       "      <td>0</td>\n",
       "      <td>0</td>\n",
       "      <td>0</td>\n",
       "      <td>0</td>\n",
       "      <td>...</td>\n",
       "      <td>0</td>\n",
       "      <td>0</td>\n",
       "      <td>0</td>\n",
       "      <td>0</td>\n",
       "      <td>0</td>\n",
       "      <td>0</td>\n",
       "      <td>0</td>\n",
       "      <td>0</td>\n",
       "      <td>0</td>\n",
       "      <td>0</td>\n",
       "    </tr>\n",
       "    <tr>\n",
       "      <th>1314</th>\n",
       "      <td>0</td>\n",
       "      <td>0</td>\n",
       "      <td>0</td>\n",
       "      <td>0</td>\n",
       "      <td>0</td>\n",
       "      <td>0</td>\n",
       "      <td>0</td>\n",
       "      <td>0</td>\n",
       "      <td>0</td>\n",
       "      <td>0</td>\n",
       "      <td>...</td>\n",
       "      <td>0</td>\n",
       "      <td>0</td>\n",
       "      <td>0</td>\n",
       "      <td>0</td>\n",
       "      <td>0</td>\n",
       "      <td>0</td>\n",
       "      <td>0</td>\n",
       "      <td>0</td>\n",
       "      <td>0</td>\n",
       "      <td>0</td>\n",
       "    </tr>\n",
       "    <tr>\n",
       "      <th>1315</th>\n",
       "      <td>0</td>\n",
       "      <td>0</td>\n",
       "      <td>0</td>\n",
       "      <td>0</td>\n",
       "      <td>0</td>\n",
       "      <td>0</td>\n",
       "      <td>0</td>\n",
       "      <td>0</td>\n",
       "      <td>0</td>\n",
       "      <td>0</td>\n",
       "      <td>...</td>\n",
       "      <td>0</td>\n",
       "      <td>0</td>\n",
       "      <td>0</td>\n",
       "      <td>0</td>\n",
       "      <td>0</td>\n",
       "      <td>0</td>\n",
       "      <td>0</td>\n",
       "      <td>0</td>\n",
       "      <td>0</td>\n",
       "      <td>0</td>\n",
       "    </tr>\n",
       "    <tr>\n",
       "      <th>1316</th>\n",
       "      <td>0</td>\n",
       "      <td>0</td>\n",
       "      <td>0</td>\n",
       "      <td>0</td>\n",
       "      <td>0</td>\n",
       "      <td>0</td>\n",
       "      <td>0</td>\n",
       "      <td>0</td>\n",
       "      <td>0</td>\n",
       "      <td>0</td>\n",
       "      <td>...</td>\n",
       "      <td>0</td>\n",
       "      <td>0</td>\n",
       "      <td>0</td>\n",
       "      <td>0</td>\n",
       "      <td>0</td>\n",
       "      <td>0</td>\n",
       "      <td>0</td>\n",
       "      <td>0</td>\n",
       "      <td>0</td>\n",
       "      <td>0</td>\n",
       "    </tr>\n",
       "    <tr>\n",
       "      <th>1317</th>\n",
       "      <td>0</td>\n",
       "      <td>0</td>\n",
       "      <td>0</td>\n",
       "      <td>0</td>\n",
       "      <td>0</td>\n",
       "      <td>0</td>\n",
       "      <td>0</td>\n",
       "      <td>0</td>\n",
       "      <td>0</td>\n",
       "      <td>0</td>\n",
       "      <td>...</td>\n",
       "      <td>0</td>\n",
       "      <td>0</td>\n",
       "      <td>0</td>\n",
       "      <td>0</td>\n",
       "      <td>0</td>\n",
       "      <td>0</td>\n",
       "      <td>0</td>\n",
       "      <td>0</td>\n",
       "      <td>0</td>\n",
       "      <td>0</td>\n",
       "    </tr>\n",
       "  </tbody>\n",
       "</table>\n",
       "<p>1318 rows × 237 columns</p>\n",
       "</div>"
      ],
      "text/plain": [
       "      Accessories Store  Airport  Airport Food Court  Airport Lounge  \\\n",
       "0                     0        0                   0               0   \n",
       "1                     0        0                   0               0   \n",
       "2                     0        0                   0               0   \n",
       "3                     0        0                   0               0   \n",
       "4                     0        0                   0               0   \n",
       "...                 ...      ...                 ...             ...   \n",
       "1313                  0        0                   0               0   \n",
       "1314                  0        0                   0               0   \n",
       "1315                  0        0                   0               0   \n",
       "1316                  0        0                   0               0   \n",
       "1317                  0        0                   0               0   \n",
       "\n",
       "      Airport Service  Airport Terminal  American Restaurant  Antique Shop  \\\n",
       "0                   0                 0                    0             0   \n",
       "1                   0                 0                    0             0   \n",
       "2                   0                 0                    0             0   \n",
       "3                   0                 0                    0             0   \n",
       "4                   0                 0                    0             0   \n",
       "...               ...               ...                  ...           ...   \n",
       "1313                0                 0                    0             0   \n",
       "1314                0                 0                    0             0   \n",
       "1315                0                 0                    0             0   \n",
       "1316                0                 0                    0             0   \n",
       "1317                0                 0                    0             0   \n",
       "\n",
       "      Aquarium  Art Gallery  ...  Train Station  Truck Stop  \\\n",
       "0            0            0  ...              0           0   \n",
       "1            0            0  ...              0           0   \n",
       "2            0            0  ...              0           0   \n",
       "3            0            0  ...              0           0   \n",
       "4            0            0  ...              0           0   \n",
       "...        ...          ...  ...            ...         ...   \n",
       "1313         0            0  ...              0           0   \n",
       "1314         0            0  ...              0           0   \n",
       "1315         0            0  ...              0           0   \n",
       "1316         0            0  ...              0           0   \n",
       "1317         0            0  ...              0           0   \n",
       "\n",
       "      Vegetarian / Vegan Restaurant  Video Game Store  Vietnamese Restaurant  \\\n",
       "0                                 0                 0                      0   \n",
       "1                                 0                 0                      0   \n",
       "2                                 0                 0                      0   \n",
       "3                                 0                 0                      0   \n",
       "4                                 0                 0                      0   \n",
       "...                             ...               ...                    ...   \n",
       "1313                              0                 0                      0   \n",
       "1314                              0                 0                      0   \n",
       "1315                              0                 0                      0   \n",
       "1316                              0                 0                      0   \n",
       "1317                              0                 0                      0   \n",
       "\n",
       "      Warehouse Store  Wine Bar  Wings Joint  Women's Store  Yoga Studio  \n",
       "0                   0         0            0              0            0  \n",
       "1                   0         0            0              0            0  \n",
       "2                   0         0            0              0            0  \n",
       "3                   0         0            0              0            0  \n",
       "4                   0         0            0              0            0  \n",
       "...               ...       ...          ...            ...          ...  \n",
       "1313                0         0            0              0            0  \n",
       "1314                0         0            0              0            0  \n",
       "1315                0         0            0              0            0  \n",
       "1316                0         0            0              0            0  \n",
       "1317                0         0            0              0            0  \n",
       "\n",
       "[1318 rows x 237 columns]"
      ]
     },
     "execution_count": 26,
     "metadata": {},
     "output_type": "execute_result"
    }
   ],
   "source": [
    "toronto_venue_cat = pd.get_dummies(venues_in_toronto[['Venue Category']], prefix=\"\", prefix_sep=\"\")\n",
    "toronto_venue_cat"
   ]
  },
  {
   "cell_type": "markdown",
   "metadata": {
    "colab_type": "text",
    "id": "sPcSsdHTgQxY"
   },
   "source": [
    "**adding the neighbourhood to the encoded dataframe**"
   ]
  },
  {
   "cell_type": "code",
   "execution_count": 27,
   "metadata": {
    "colab": {
     "base_uri": "https://localhost:8080/",
     "height": 287
    },
    "colab_type": "code",
    "executionInfo": {
     "elapsed": 1310,
     "status": "ok",
     "timestamp": 1597498952574,
     "user": {
      "displayName": "Thomas George Thomas",
      "photoUrl": "https://lh3.googleusercontent.com/a-/AOh14GhRjmtno5yCmJOUjYiFNGHi_xP5YZBJ1ZpWGKsZ=s64",
      "userId": "09561174857978505545"
     },
     "user_tz": -330
    },
    "id": "EAi3ShqvgL5Q",
    "outputId": "7c038ca1-10f1-45ca-c20e-95541328b8cf"
   },
   "outputs": [
    {
     "data": {
      "text/html": [
       "<div>\n",
       "<style scoped>\n",
       "    .dataframe tbody tr th:only-of-type {\n",
       "        vertical-align: middle;\n",
       "    }\n",
       "\n",
       "    .dataframe tbody tr th {\n",
       "        vertical-align: top;\n",
       "    }\n",
       "\n",
       "    .dataframe thead th {\n",
       "        text-align: right;\n",
       "    }\n",
       "</style>\n",
       "<table border=\"1\" class=\"dataframe\">\n",
       "  <thead>\n",
       "    <tr style=\"text-align: right;\">\n",
       "      <th></th>\n",
       "      <th>Neighbourhood</th>\n",
       "      <th>Accessories Store</th>\n",
       "      <th>Airport</th>\n",
       "      <th>Airport Food Court</th>\n",
       "      <th>Airport Lounge</th>\n",
       "      <th>Airport Service</th>\n",
       "      <th>Airport Terminal</th>\n",
       "      <th>American Restaurant</th>\n",
       "      <th>Antique Shop</th>\n",
       "      <th>Aquarium</th>\n",
       "      <th>...</th>\n",
       "      <th>Train Station</th>\n",
       "      <th>Truck Stop</th>\n",
       "      <th>Vegetarian / Vegan Restaurant</th>\n",
       "      <th>Video Game Store</th>\n",
       "      <th>Vietnamese Restaurant</th>\n",
       "      <th>Warehouse Store</th>\n",
       "      <th>Wine Bar</th>\n",
       "      <th>Wings Joint</th>\n",
       "      <th>Women's Store</th>\n",
       "      <th>Yoga Studio</th>\n",
       "    </tr>\n",
       "  </thead>\n",
       "  <tbody>\n",
       "    <tr>\n",
       "      <th>0</th>\n",
       "      <td>Parkwoods</td>\n",
       "      <td>0</td>\n",
       "      <td>0</td>\n",
       "      <td>0</td>\n",
       "      <td>0</td>\n",
       "      <td>0</td>\n",
       "      <td>0</td>\n",
       "      <td>0</td>\n",
       "      <td>0</td>\n",
       "      <td>0</td>\n",
       "      <td>...</td>\n",
       "      <td>0</td>\n",
       "      <td>0</td>\n",
       "      <td>0</td>\n",
       "      <td>0</td>\n",
       "      <td>0</td>\n",
       "      <td>0</td>\n",
       "      <td>0</td>\n",
       "      <td>0</td>\n",
       "      <td>0</td>\n",
       "      <td>0</td>\n",
       "    </tr>\n",
       "    <tr>\n",
       "      <th>1</th>\n",
       "      <td>Parkwoods</td>\n",
       "      <td>0</td>\n",
       "      <td>0</td>\n",
       "      <td>0</td>\n",
       "      <td>0</td>\n",
       "      <td>0</td>\n",
       "      <td>0</td>\n",
       "      <td>0</td>\n",
       "      <td>0</td>\n",
       "      <td>0</td>\n",
       "      <td>...</td>\n",
       "      <td>0</td>\n",
       "      <td>0</td>\n",
       "      <td>0</td>\n",
       "      <td>0</td>\n",
       "      <td>0</td>\n",
       "      <td>0</td>\n",
       "      <td>0</td>\n",
       "      <td>0</td>\n",
       "      <td>0</td>\n",
       "      <td>0</td>\n",
       "    </tr>\n",
       "    <tr>\n",
       "      <th>2</th>\n",
       "      <td>Victoria Village</td>\n",
       "      <td>0</td>\n",
       "      <td>0</td>\n",
       "      <td>0</td>\n",
       "      <td>0</td>\n",
       "      <td>0</td>\n",
       "      <td>0</td>\n",
       "      <td>0</td>\n",
       "      <td>0</td>\n",
       "      <td>0</td>\n",
       "      <td>...</td>\n",
       "      <td>0</td>\n",
       "      <td>0</td>\n",
       "      <td>0</td>\n",
       "      <td>0</td>\n",
       "      <td>0</td>\n",
       "      <td>0</td>\n",
       "      <td>0</td>\n",
       "      <td>0</td>\n",
       "      <td>0</td>\n",
       "      <td>0</td>\n",
       "    </tr>\n",
       "    <tr>\n",
       "      <th>3</th>\n",
       "      <td>Victoria Village</td>\n",
       "      <td>0</td>\n",
       "      <td>0</td>\n",
       "      <td>0</td>\n",
       "      <td>0</td>\n",
       "      <td>0</td>\n",
       "      <td>0</td>\n",
       "      <td>0</td>\n",
       "      <td>0</td>\n",
       "      <td>0</td>\n",
       "      <td>...</td>\n",
       "      <td>0</td>\n",
       "      <td>0</td>\n",
       "      <td>0</td>\n",
       "      <td>0</td>\n",
       "      <td>0</td>\n",
       "      <td>0</td>\n",
       "      <td>0</td>\n",
       "      <td>0</td>\n",
       "      <td>0</td>\n",
       "      <td>0</td>\n",
       "    </tr>\n",
       "    <tr>\n",
       "      <th>4</th>\n",
       "      <td>Victoria Village</td>\n",
       "      <td>0</td>\n",
       "      <td>0</td>\n",
       "      <td>0</td>\n",
       "      <td>0</td>\n",
       "      <td>0</td>\n",
       "      <td>0</td>\n",
       "      <td>0</td>\n",
       "      <td>0</td>\n",
       "      <td>0</td>\n",
       "      <td>...</td>\n",
       "      <td>0</td>\n",
       "      <td>0</td>\n",
       "      <td>0</td>\n",
       "      <td>0</td>\n",
       "      <td>0</td>\n",
       "      <td>0</td>\n",
       "      <td>0</td>\n",
       "      <td>0</td>\n",
       "      <td>0</td>\n",
       "      <td>0</td>\n",
       "    </tr>\n",
       "  </tbody>\n",
       "</table>\n",
       "<p>5 rows × 238 columns</p>\n",
       "</div>"
      ],
      "text/plain": [
       "      Neighbourhood  Accessories Store  Airport  Airport Food Court  \\\n",
       "0         Parkwoods                  0        0                   0   \n",
       "1         Parkwoods                  0        0                   0   \n",
       "2  Victoria Village                  0        0                   0   \n",
       "3  Victoria Village                  0        0                   0   \n",
       "4  Victoria Village                  0        0                   0   \n",
       "\n",
       "   Airport Lounge  Airport Service  Airport Terminal  American Restaurant  \\\n",
       "0               0                0                 0                    0   \n",
       "1               0                0                 0                    0   \n",
       "2               0                0                 0                    0   \n",
       "3               0                0                 0                    0   \n",
       "4               0                0                 0                    0   \n",
       "\n",
       "   Antique Shop  Aquarium  ...  Train Station  Truck Stop  \\\n",
       "0             0         0  ...              0           0   \n",
       "1             0         0  ...              0           0   \n",
       "2             0         0  ...              0           0   \n",
       "3             0         0  ...              0           0   \n",
       "4             0         0  ...              0           0   \n",
       "\n",
       "   Vegetarian / Vegan Restaurant  Video Game Store  Vietnamese Restaurant  \\\n",
       "0                              0                 0                      0   \n",
       "1                              0                 0                      0   \n",
       "2                              0                 0                      0   \n",
       "3                              0                 0                      0   \n",
       "4                              0                 0                      0   \n",
       "\n",
       "   Warehouse Store  Wine Bar  Wings Joint  Women's Store  Yoga Studio  \n",
       "0                0         0            0              0            0  \n",
       "1                0         0            0              0            0  \n",
       "2                0         0            0              0            0  \n",
       "3                0         0            0              0            0  \n",
       "4                0         0            0              0            0  \n",
       "\n",
       "[5 rows x 238 columns]"
      ]
     },
     "execution_count": 27,
     "metadata": {},
     "output_type": "execute_result"
    }
   ],
   "source": [
    "toronto_venue_cat['Neighbourhood'] = venues_in_toronto['Neighbourhood'] \n",
    "\n",
    "# moving neighborhood column to the first column\n",
    "fixed_columns = [toronto_venue_cat.columns[-1]] + list(toronto_venue_cat.columns[:-1])\n",
    "toronto_venue_cat = toronto_venue_cat[fixed_columns]\n",
    "\n",
    "toronto_venue_cat.head()"
   ]
  },
  {
   "cell_type": "markdown",
   "metadata": {
    "colab_type": "text",
    "id": "oawCyCfkg6xv"
   },
   "source": [
    "**group the Neighbourhoods, and calculate the mean venue categories in each Neighbourhood**"
   ]
  },
  {
   "cell_type": "code",
   "execution_count": 28,
   "metadata": {
    "colab": {
     "base_uri": "https://localhost:8080/",
     "height": 389
    },
    "colab_type": "code",
    "executionInfo": {
     "elapsed": 1666,
     "status": "ok",
     "timestamp": 1597498952945,
     "user": {
      "displayName": "Thomas George Thomas",
      "photoUrl": "https://lh3.googleusercontent.com/a-/AOh14GhRjmtno5yCmJOUjYiFNGHi_xP5YZBJ1ZpWGKsZ=s64",
      "userId": "09561174857978505545"
     },
     "user_tz": -330
    },
    "id": "a8pce96ggYmz",
    "outputId": "2ae7b125-16b8-4a72-f47f-7825577bb2a0"
   },
   "outputs": [
    {
     "data": {
      "text/html": [
       "<div>\n",
       "<style scoped>\n",
       "    .dataframe tbody tr th:only-of-type {\n",
       "        vertical-align: middle;\n",
       "    }\n",
       "\n",
       "    .dataframe tbody tr th {\n",
       "        vertical-align: top;\n",
       "    }\n",
       "\n",
       "    .dataframe thead th {\n",
       "        text-align: right;\n",
       "    }\n",
       "</style>\n",
       "<table border=\"1\" class=\"dataframe\">\n",
       "  <thead>\n",
       "    <tr style=\"text-align: right;\">\n",
       "      <th></th>\n",
       "      <th>Neighbourhood</th>\n",
       "      <th>Accessories Store</th>\n",
       "      <th>Airport</th>\n",
       "      <th>Airport Food Court</th>\n",
       "      <th>Airport Lounge</th>\n",
       "      <th>Airport Service</th>\n",
       "      <th>Airport Terminal</th>\n",
       "      <th>American Restaurant</th>\n",
       "      <th>Antique Shop</th>\n",
       "      <th>Aquarium</th>\n",
       "      <th>...</th>\n",
       "      <th>Train Station</th>\n",
       "      <th>Truck Stop</th>\n",
       "      <th>Vegetarian / Vegan Restaurant</th>\n",
       "      <th>Video Game Store</th>\n",
       "      <th>Vietnamese Restaurant</th>\n",
       "      <th>Warehouse Store</th>\n",
       "      <th>Wine Bar</th>\n",
       "      <th>Wings Joint</th>\n",
       "      <th>Women's Store</th>\n",
       "      <th>Yoga Studio</th>\n",
       "    </tr>\n",
       "  </thead>\n",
       "  <tbody>\n",
       "    <tr>\n",
       "      <th>0</th>\n",
       "      <td>Agincourt</td>\n",
       "      <td>0.0</td>\n",
       "      <td>0.0</td>\n",
       "      <td>0.0</td>\n",
       "      <td>0.0</td>\n",
       "      <td>0.0</td>\n",
       "      <td>0.0</td>\n",
       "      <td>0.00</td>\n",
       "      <td>0.0</td>\n",
       "      <td>0.0</td>\n",
       "      <td>...</td>\n",
       "      <td>0.0</td>\n",
       "      <td>0.0</td>\n",
       "      <td>0.0</td>\n",
       "      <td>0.0</td>\n",
       "      <td>0.0</td>\n",
       "      <td>0.0</td>\n",
       "      <td>0.0</td>\n",
       "      <td>0.0</td>\n",
       "      <td>0.0</td>\n",
       "      <td>0.0</td>\n",
       "    </tr>\n",
       "    <tr>\n",
       "      <th>1</th>\n",
       "      <td>Alderwood, Long Branch</td>\n",
       "      <td>0.0</td>\n",
       "      <td>0.0</td>\n",
       "      <td>0.0</td>\n",
       "      <td>0.0</td>\n",
       "      <td>0.0</td>\n",
       "      <td>0.0</td>\n",
       "      <td>0.00</td>\n",
       "      <td>0.0</td>\n",
       "      <td>0.0</td>\n",
       "      <td>...</td>\n",
       "      <td>0.0</td>\n",
       "      <td>0.0</td>\n",
       "      <td>0.0</td>\n",
       "      <td>0.0</td>\n",
       "      <td>0.0</td>\n",
       "      <td>0.0</td>\n",
       "      <td>0.0</td>\n",
       "      <td>0.0</td>\n",
       "      <td>0.0</td>\n",
       "      <td>0.0</td>\n",
       "    </tr>\n",
       "    <tr>\n",
       "      <th>2</th>\n",
       "      <td>Bathurst Manor, Wilson Heights, Downsview North</td>\n",
       "      <td>0.0</td>\n",
       "      <td>0.0</td>\n",
       "      <td>0.0</td>\n",
       "      <td>0.0</td>\n",
       "      <td>0.0</td>\n",
       "      <td>0.0</td>\n",
       "      <td>0.00</td>\n",
       "      <td>0.0</td>\n",
       "      <td>0.0</td>\n",
       "      <td>...</td>\n",
       "      <td>0.0</td>\n",
       "      <td>0.0</td>\n",
       "      <td>0.0</td>\n",
       "      <td>0.0</td>\n",
       "      <td>0.0</td>\n",
       "      <td>0.0</td>\n",
       "      <td>0.0</td>\n",
       "      <td>0.0</td>\n",
       "      <td>0.0</td>\n",
       "      <td>0.0</td>\n",
       "    </tr>\n",
       "    <tr>\n",
       "      <th>3</th>\n",
       "      <td>Bayview Village</td>\n",
       "      <td>0.0</td>\n",
       "      <td>0.0</td>\n",
       "      <td>0.0</td>\n",
       "      <td>0.0</td>\n",
       "      <td>0.0</td>\n",
       "      <td>0.0</td>\n",
       "      <td>0.00</td>\n",
       "      <td>0.0</td>\n",
       "      <td>0.0</td>\n",
       "      <td>...</td>\n",
       "      <td>0.0</td>\n",
       "      <td>0.0</td>\n",
       "      <td>0.0</td>\n",
       "      <td>0.0</td>\n",
       "      <td>0.0</td>\n",
       "      <td>0.0</td>\n",
       "      <td>0.0</td>\n",
       "      <td>0.0</td>\n",
       "      <td>0.0</td>\n",
       "      <td>0.0</td>\n",
       "    </tr>\n",
       "    <tr>\n",
       "      <th>4</th>\n",
       "      <td>Bedford Park, Lawrence Manor East</td>\n",
       "      <td>0.0</td>\n",
       "      <td>0.0</td>\n",
       "      <td>0.0</td>\n",
       "      <td>0.0</td>\n",
       "      <td>0.0</td>\n",
       "      <td>0.0</td>\n",
       "      <td>0.04</td>\n",
       "      <td>0.0</td>\n",
       "      <td>0.0</td>\n",
       "      <td>...</td>\n",
       "      <td>0.0</td>\n",
       "      <td>0.0</td>\n",
       "      <td>0.0</td>\n",
       "      <td>0.0</td>\n",
       "      <td>0.0</td>\n",
       "      <td>0.0</td>\n",
       "      <td>0.0</td>\n",
       "      <td>0.0</td>\n",
       "      <td>0.0</td>\n",
       "      <td>0.0</td>\n",
       "    </tr>\n",
       "  </tbody>\n",
       "</table>\n",
       "<p>5 rows × 238 columns</p>\n",
       "</div>"
      ],
      "text/plain": [
       "                                     Neighbourhood  Accessories Store  \\\n",
       "0                                        Agincourt                0.0   \n",
       "1                           Alderwood, Long Branch                0.0   \n",
       "2  Bathurst Manor, Wilson Heights, Downsview North                0.0   \n",
       "3                                  Bayview Village                0.0   \n",
       "4                Bedford Park, Lawrence Manor East                0.0   \n",
       "\n",
       "   Airport  Airport Food Court  Airport Lounge  Airport Service  \\\n",
       "0      0.0                 0.0             0.0              0.0   \n",
       "1      0.0                 0.0             0.0              0.0   \n",
       "2      0.0                 0.0             0.0              0.0   \n",
       "3      0.0                 0.0             0.0              0.0   \n",
       "4      0.0                 0.0             0.0              0.0   \n",
       "\n",
       "   Airport Terminal  American Restaurant  Antique Shop  Aquarium  ...  \\\n",
       "0               0.0                 0.00           0.0       0.0  ...   \n",
       "1               0.0                 0.00           0.0       0.0  ...   \n",
       "2               0.0                 0.00           0.0       0.0  ...   \n",
       "3               0.0                 0.00           0.0       0.0  ...   \n",
       "4               0.0                 0.04           0.0       0.0  ...   \n",
       "\n",
       "   Train Station  Truck Stop  Vegetarian / Vegan Restaurant  Video Game Store  \\\n",
       "0            0.0         0.0                            0.0               0.0   \n",
       "1            0.0         0.0                            0.0               0.0   \n",
       "2            0.0         0.0                            0.0               0.0   \n",
       "3            0.0         0.0                            0.0               0.0   \n",
       "4            0.0         0.0                            0.0               0.0   \n",
       "\n",
       "   Vietnamese Restaurant  Warehouse Store  Wine Bar  Wings Joint  \\\n",
       "0                    0.0              0.0       0.0          0.0   \n",
       "1                    0.0              0.0       0.0          0.0   \n",
       "2                    0.0              0.0       0.0          0.0   \n",
       "3                    0.0              0.0       0.0          0.0   \n",
       "4                    0.0              0.0       0.0          0.0   \n",
       "\n",
       "   Women's Store  Yoga Studio  \n",
       "0            0.0          0.0  \n",
       "1            0.0          0.0  \n",
       "2            0.0          0.0  \n",
       "3            0.0          0.0  \n",
       "4            0.0          0.0  \n",
       "\n",
       "[5 rows x 238 columns]"
      ]
     },
     "execution_count": 28,
     "metadata": {},
     "output_type": "execute_result"
    }
   ],
   "source": [
    "toronto_grouped = toronto_venue_cat.groupby('Neighbourhood').mean().reset_index()\n",
    "toronto_grouped.head()"
   ]
  },
  {
   "cell_type": "markdown",
   "metadata": {
    "colab_type": "text",
    "id": "7zyb9rUCjIW7"
   },
   "source": [
    "Let's make a function to get the top most common venue categories"
   ]
  },
  {
   "cell_type": "code",
   "execution_count": 29,
   "metadata": {
    "colab": {},
    "colab_type": "code",
    "executionInfo": {
     "elapsed": 1653,
     "status": "ok",
     "timestamp": 1597498952947,
     "user": {
      "displayName": "Thomas George Thomas",
      "photoUrl": "https://lh3.googleusercontent.com/a-/AOh14GhRjmtno5yCmJOUjYiFNGHi_xP5YZBJ1ZpWGKsZ=s64",
      "userId": "09561174857978505545"
     },
     "user_tz": -330
    },
    "id": "hd5y_SithLr1"
   },
   "outputs": [],
   "source": [
    "def return_most_common_venues(row, num_top_venues):\n",
    "    row_categories = row.iloc[1:]\n",
    "    row_categories_sorted = row_categories.sort_values(ascending=False)\n",
    "    \n",
    "    return row_categories_sorted.index.values[0:num_top_venues]"
   ]
  },
  {
   "cell_type": "markdown",
   "metadata": {
    "colab_type": "text",
    "id": "uj_dGPq_jmUs"
   },
   "source": [
    "There are way too many venue categories, we can take the top 10 to cluster the neighbourhoods"
   ]
  },
  {
   "cell_type": "code",
   "execution_count": 30,
   "metadata": {
    "colab": {
     "base_uri": "https://localhost:8080/",
     "height": 374
    },
    "colab_type": "code",
    "executionInfo": {
     "elapsed": 2014,
     "status": "ok",
     "timestamp": 1597498953334,
     "user": {
      "displayName": "Thomas George Thomas",
      "photoUrl": "https://lh3.googleusercontent.com/a-/AOh14GhRjmtno5yCmJOUjYiFNGHi_xP5YZBJ1ZpWGKsZ=s64",
      "userId": "09561174857978505545"
     },
     "user_tz": -330
    },
    "id": "LvRR_p-tjOk0",
    "outputId": "9f2d0deb-94f9-4be9-9f3c-b7e3f6e1b673"
   },
   "outputs": [
    {
     "data": {
      "text/html": [
       "<div>\n",
       "<style scoped>\n",
       "    .dataframe tbody tr th:only-of-type {\n",
       "        vertical-align: middle;\n",
       "    }\n",
       "\n",
       "    .dataframe tbody tr th {\n",
       "        vertical-align: top;\n",
       "    }\n",
       "\n",
       "    .dataframe thead th {\n",
       "        text-align: right;\n",
       "    }\n",
       "</style>\n",
       "<table border=\"1\" class=\"dataframe\">\n",
       "  <thead>\n",
       "    <tr style=\"text-align: right;\">\n",
       "      <th></th>\n",
       "      <th>Neighbourhood</th>\n",
       "      <th>1st Most Common Venue</th>\n",
       "      <th>2nd Most Common Venue</th>\n",
       "      <th>3rd Most Common Venue</th>\n",
       "      <th>4th Most Common Venue</th>\n",
       "      <th>5th Most Common Venue</th>\n",
       "      <th>6th Most Common Venue</th>\n",
       "      <th>7th Most Common Venue</th>\n",
       "      <th>8th Most Common Venue</th>\n",
       "      <th>9th Most Common Venue</th>\n",
       "      <th>10th Most Common Venue</th>\n",
       "    </tr>\n",
       "  </thead>\n",
       "  <tbody>\n",
       "    <tr>\n",
       "      <th>0</th>\n",
       "      <td>Agincourt</td>\n",
       "      <td>Latin American Restaurant</td>\n",
       "      <td>Lounge</td>\n",
       "      <td>Breakfast Spot</td>\n",
       "      <td>Skating Rink</td>\n",
       "      <td>Ethiopian Restaurant</td>\n",
       "      <td>Electronics Store</td>\n",
       "      <td>Eastern European Restaurant</td>\n",
       "      <td>Drugstore</td>\n",
       "      <td>Donut Shop</td>\n",
       "      <td>Dog Run</td>\n",
       "    </tr>\n",
       "    <tr>\n",
       "      <th>1</th>\n",
       "      <td>Alderwood, Long Branch</td>\n",
       "      <td>Pizza Place</td>\n",
       "      <td>Pool</td>\n",
       "      <td>Coffee Shop</td>\n",
       "      <td>Gym</td>\n",
       "      <td>Sandwich Place</td>\n",
       "      <td>Skating Rink</td>\n",
       "      <td>Pub</td>\n",
       "      <td>Yoga Studio</td>\n",
       "      <td>Department Store</td>\n",
       "      <td>Dessert Shop</td>\n",
       "    </tr>\n",
       "    <tr>\n",
       "      <th>2</th>\n",
       "      <td>Bathurst Manor, Wilson Heights, Downsview North</td>\n",
       "      <td>Coffee Shop</td>\n",
       "      <td>Bank</td>\n",
       "      <td>Park</td>\n",
       "      <td>Chinese Restaurant</td>\n",
       "      <td>Bridal Shop</td>\n",
       "      <td>Sandwich Place</td>\n",
       "      <td>Diner</td>\n",
       "      <td>Restaurant</td>\n",
       "      <td>Intersection</td>\n",
       "      <td>Deli / Bodega</td>\n",
       "    </tr>\n",
       "    <tr>\n",
       "      <th>3</th>\n",
       "      <td>Bayview Village</td>\n",
       "      <td>Café</td>\n",
       "      <td>Japanese Restaurant</td>\n",
       "      <td>Chinese Restaurant</td>\n",
       "      <td>Bank</td>\n",
       "      <td>Yoga Studio</td>\n",
       "      <td>Escape Room</td>\n",
       "      <td>Electronics Store</td>\n",
       "      <td>Eastern European Restaurant</td>\n",
       "      <td>Drugstore</td>\n",
       "      <td>Donut Shop</td>\n",
       "    </tr>\n",
       "    <tr>\n",
       "      <th>4</th>\n",
       "      <td>Bedford Park, Lawrence Manor East</td>\n",
       "      <td>Coffee Shop</td>\n",
       "      <td>Italian Restaurant</td>\n",
       "      <td>Sandwich Place</td>\n",
       "      <td>Grocery Store</td>\n",
       "      <td>Restaurant</td>\n",
       "      <td>Indian Restaurant</td>\n",
       "      <td>Japanese Restaurant</td>\n",
       "      <td>Juice Bar</td>\n",
       "      <td>Liquor Store</td>\n",
       "      <td>Butcher</td>\n",
       "    </tr>\n",
       "  </tbody>\n",
       "</table>\n",
       "</div>"
      ],
      "text/plain": [
       "                                     Neighbourhood      1st Most Common Venue  \\\n",
       "0                                        Agincourt  Latin American Restaurant   \n",
       "1                           Alderwood, Long Branch                Pizza Place   \n",
       "2  Bathurst Manor, Wilson Heights, Downsview North                Coffee Shop   \n",
       "3                                  Bayview Village                       Café   \n",
       "4                Bedford Park, Lawrence Manor East                Coffee Shop   \n",
       "\n",
       "  2nd Most Common Venue 3rd Most Common Venue 4th Most Common Venue  \\\n",
       "0                Lounge        Breakfast Spot          Skating Rink   \n",
       "1                  Pool           Coffee Shop                   Gym   \n",
       "2                  Bank                  Park    Chinese Restaurant   \n",
       "3   Japanese Restaurant    Chinese Restaurant                  Bank   \n",
       "4    Italian Restaurant        Sandwich Place         Grocery Store   \n",
       "\n",
       "  5th Most Common Venue 6th Most Common Venue        7th Most Common Venue  \\\n",
       "0  Ethiopian Restaurant     Electronics Store  Eastern European Restaurant   \n",
       "1        Sandwich Place          Skating Rink                          Pub   \n",
       "2           Bridal Shop        Sandwich Place                        Diner   \n",
       "3           Yoga Studio           Escape Room            Electronics Store   \n",
       "4            Restaurant     Indian Restaurant          Japanese Restaurant   \n",
       "\n",
       "         8th Most Common Venue 9th Most Common Venue 10th Most Common Venue  \n",
       "0                    Drugstore            Donut Shop                Dog Run  \n",
       "1                  Yoga Studio      Department Store           Dessert Shop  \n",
       "2                   Restaurant          Intersection          Deli / Bodega  \n",
       "3  Eastern European Restaurant             Drugstore             Donut Shop  \n",
       "4                    Juice Bar          Liquor Store                Butcher  "
      ]
     },
     "execution_count": 30,
     "metadata": {},
     "output_type": "execute_result"
    }
   ],
   "source": [
    "num_top_venues = 10\n",
    "\n",
    "indicators = ['st', 'nd', 'rd']\n",
    "\n",
    "# create columns according to number of top venues\n",
    "columns = ['Neighbourhood']\n",
    "for ind in np.arange(num_top_venues):\n",
    "    try:\n",
    "        columns.append('{}{} Most Common Venue'.format(ind+1, indicators[ind]))\n",
    "    except:\n",
    "        columns.append('{}th Most Common Venue'.format(ind+1))\n",
    "\n",
    "# create a new dataframe\n",
    "neighborhoods_venues_sorted = pd.DataFrame(columns=columns)\n",
    "neighborhoods_venues_sorted['Neighbourhood'] = toronto_grouped['Neighbourhood']\n",
    "\n",
    "for ind in np.arange(toronto_grouped.shape[0]):\n",
    "    neighborhoods_venues_sorted.iloc[ind, 1:] = return_most_common_venues(toronto_grouped.iloc[ind, :], num_top_venues)\n",
    "\n",
    "neighborhoods_venues_sorted.head()"
   ]
  },
  {
   "cell_type": "markdown",
   "metadata": {
    "colab_type": "text",
    "id": "Tb7msVXLiVMJ"
   },
   "source": [
    "### **make the model to cluster Neighbourhoods**"
   ]
  },
  {
   "cell_type": "code",
   "execution_count": 31,
   "metadata": {
    "colab": {},
    "colab_type": "code",
    "executionInfo": {
     "elapsed": 2924,
     "status": "ok",
     "timestamp": 1597498954261,
     "user": {
      "displayName": "Thomas George Thomas",
      "photoUrl": "https://lh3.googleusercontent.com/a-/AOh14GhRjmtno5yCmJOUjYiFNGHi_xP5YZBJ1ZpWGKsZ=s64",
      "userId": "09561174857978505545"
     },
     "user_tz": -330
    },
    "id": "Ju-v31w8k957"
   },
   "outputs": [],
   "source": [
    "# import k-means from clustering stage\n",
    "from sklearn.cluster import KMeans"
   ]
  },
  {
   "cell_type": "code",
   "execution_count": 32,
   "metadata": {
    "colab": {
     "base_uri": "https://localhost:8080/",
     "height": 68
    },
    "colab_type": "code",
    "executionInfo": {
     "elapsed": 2913,
     "status": "ok",
     "timestamp": 1597498954262,
     "user": {
      "displayName": "Thomas George Thomas",
      "photoUrl": "https://lh3.googleusercontent.com/a-/AOh14GhRjmtno5yCmJOUjYiFNGHi_xP5YZBJ1ZpWGKsZ=s64",
      "userId": "09561174857978505545"
     },
     "user_tz": -330
    },
    "id": "b-Ex22aJiQ4n",
    "outputId": "d35aeb87-195c-471b-b78e-4264d3472bbb"
   },
   "outputs": [
    {
     "data": {
      "text/plain": [
       "KMeans(n_clusters=5, random_state=0)"
      ]
     },
     "execution_count": 32,
     "metadata": {},
     "output_type": "execute_result"
    }
   ],
   "source": [
    "# set number of clusters\n",
    "k_num_clusters = 5\n",
    "\n",
    "toronto_grouped_clustering = toronto_grouped.drop('Neighbourhood', 1)\n",
    "\n",
    "# run k-means clustering\n",
    "kmeans = KMeans(n_clusters=k_num_clusters, random_state=0).fit(toronto_grouped_clustering)\n",
    "kmeans"
   ]
  },
  {
   "cell_type": "markdown",
   "metadata": {
    "colab_type": "text",
    "id": "qWvQJXAdkWvL"
   },
   "source": [
    "Checking the labelling of our model"
   ]
  },
  {
   "cell_type": "code",
   "execution_count": 33,
   "metadata": {
    "colab": {
     "base_uri": "https://localhost:8080/",
     "height": 102
    },
    "colab_type": "code",
    "executionInfo": {
     "elapsed": 2901,
     "status": "ok",
     "timestamp": 1597498954264,
     "user": {
      "displayName": "Thomas George Thomas",
      "photoUrl": "https://lh3.googleusercontent.com/a-/AOh14GhRjmtno5yCmJOUjYiFNGHi_xP5YZBJ1ZpWGKsZ=s64",
      "userId": "09561174857978505545"
     },
     "user_tz": -330
    },
    "id": "pb8rJhdIia4c",
    "outputId": "2b060d72-6bb6-454b-b4b3-13c1489fd499"
   },
   "outputs": [
    {
     "data": {
      "text/plain": [
       "array([1, 1, 1, 1, 1, 1, 1, 1, 1, 1, 0, 1, 1, 1, 1, 1, 1, 1, 1, 1, 1, 1,\n",
       "       1, 1, 1, 1, 0, 1, 1, 1, 1, 1, 1, 1, 1, 1, 1, 1, 1, 2, 1, 1, 1, 1,\n",
       "       1, 1, 1, 1, 1, 1, 0, 1, 3, 1, 1, 1, 1, 1, 2, 1, 1, 0, 1, 1, 1, 0,\n",
       "       1, 1, 1, 1, 1, 1, 1, 1, 1, 1, 1, 1, 1, 1, 1, 1, 1, 1, 1, 1, 4, 1,\n",
       "       0, 1, 1, 1, 1, 1, 0])"
      ]
     },
     "execution_count": 33,
     "metadata": {},
     "output_type": "execute_result"
    }
   ],
   "source": [
    "kmeans.labels_[0:100]"
   ]
  },
  {
   "cell_type": "markdown",
   "metadata": {
    "colab_type": "text",
    "id": "ysCud9t6kaiX"
   },
   "source": [
    "Let's add the clustering Label column to the top 10 common venue categories"
   ]
  },
  {
   "cell_type": "code",
   "execution_count": 34,
   "metadata": {
    "colab": {},
    "colab_type": "code",
    "executionInfo": {
     "elapsed": 2887,
     "status": "ok",
     "timestamp": 1597498954265,
     "user": {
      "displayName": "Thomas George Thomas",
      "photoUrl": "https://lh3.googleusercontent.com/a-/AOh14GhRjmtno5yCmJOUjYiFNGHi_xP5YZBJ1ZpWGKsZ=s64",
      "userId": "09561174857978505545"
     },
     "user_tz": -330
    },
    "id": "1H6kDq_widL4"
   },
   "outputs": [],
   "source": [
    "neighborhoods_venues_sorted.insert(0, 'Cluster Labels', kmeans.labels_)"
   ]
  },
  {
   "cell_type": "markdown",
   "metadata": {
    "colab_type": "text",
    "id": "7fJeRgRHl6OY"
   },
   "source": [
    "Join toronto_grouped with combined_data on neighbourhood to add latitude & longitude for each neighborhood to prepare it for plotting"
   ]
  },
  {
   "cell_type": "code",
   "execution_count": 35,
   "metadata": {
    "colab": {
     "base_uri": "https://localhost:8080/",
     "height": 445
    },
    "colab_type": "code",
    "executionInfo": {
     "elapsed": 2876,
     "status": "ok",
     "timestamp": 1597498954266,
     "user": {
      "displayName": "Thomas George Thomas",
      "photoUrl": "https://lh3.googleusercontent.com/a-/AOh14GhRjmtno5yCmJOUjYiFNGHi_xP5YZBJ1ZpWGKsZ=s64",
      "userId": "09561174857978505545"
     },
     "user_tz": -330
    },
    "id": "9Y0AlZndliux",
    "outputId": "bb778a75-64fd-432a-ff75-45b305513771"
   },
   "outputs": [
    {
     "data": {
      "text/html": [
       "<div>\n",
       "<style scoped>\n",
       "    .dataframe tbody tr th:only-of-type {\n",
       "        vertical-align: middle;\n",
       "    }\n",
       "\n",
       "    .dataframe tbody tr th {\n",
       "        vertical-align: top;\n",
       "    }\n",
       "\n",
       "    .dataframe thead th {\n",
       "        text-align: right;\n",
       "    }\n",
       "</style>\n",
       "<table border=\"1\" class=\"dataframe\">\n",
       "  <thead>\n",
       "    <tr style=\"text-align: right;\">\n",
       "      <th></th>\n",
       "      <th>Postal Code</th>\n",
       "      <th>Borough</th>\n",
       "      <th>Neighbourhood</th>\n",
       "      <th>Latitude</th>\n",
       "      <th>Longitude</th>\n",
       "      <th>Cluster Labels</th>\n",
       "      <th>1st Most Common Venue</th>\n",
       "      <th>2nd Most Common Venue</th>\n",
       "      <th>3rd Most Common Venue</th>\n",
       "      <th>4th Most Common Venue</th>\n",
       "      <th>5th Most Common Venue</th>\n",
       "      <th>6th Most Common Venue</th>\n",
       "      <th>7th Most Common Venue</th>\n",
       "      <th>8th Most Common Venue</th>\n",
       "      <th>9th Most Common Venue</th>\n",
       "      <th>10th Most Common Venue</th>\n",
       "    </tr>\n",
       "  </thead>\n",
       "  <tbody>\n",
       "    <tr>\n",
       "      <th>2</th>\n",
       "      <td>M3A</td>\n",
       "      <td>North York</td>\n",
       "      <td>Parkwoods</td>\n",
       "      <td>43.753259</td>\n",
       "      <td>-79.329656</td>\n",
       "      <td>0.0</td>\n",
       "      <td>Park</td>\n",
       "      <td>Food &amp; Drink Shop</td>\n",
       "      <td>Yoga Studio</td>\n",
       "      <td>Department Store</td>\n",
       "      <td>Escape Room</td>\n",
       "      <td>Electronics Store</td>\n",
       "      <td>Eastern European Restaurant</td>\n",
       "      <td>Drugstore</td>\n",
       "      <td>Donut Shop</td>\n",
       "      <td>Dog Run</td>\n",
       "    </tr>\n",
       "    <tr>\n",
       "      <th>3</th>\n",
       "      <td>M4A</td>\n",
       "      <td>North York</td>\n",
       "      <td>Victoria Village</td>\n",
       "      <td>43.725882</td>\n",
       "      <td>-79.315572</td>\n",
       "      <td>1.0</td>\n",
       "      <td>Portuguese Restaurant</td>\n",
       "      <td>Coffee Shop</td>\n",
       "      <td>Hockey Arena</td>\n",
       "      <td>French Restaurant</td>\n",
       "      <td>Eastern European Restaurant</td>\n",
       "      <td>Drugstore</td>\n",
       "      <td>Donut Shop</td>\n",
       "      <td>Dog Run</td>\n",
       "      <td>Deli / Bodega</td>\n",
       "      <td>Distribution Center</td>\n",
       "    </tr>\n",
       "    <tr>\n",
       "      <th>4</th>\n",
       "      <td>M5A</td>\n",
       "      <td>Downtown Toronto</td>\n",
       "      <td>Regent Park, Harbourfront</td>\n",
       "      <td>43.654260</td>\n",
       "      <td>-79.360636</td>\n",
       "      <td>1.0</td>\n",
       "      <td>Coffee Shop</td>\n",
       "      <td>Park</td>\n",
       "      <td>Bakery</td>\n",
       "      <td>Breakfast Spot</td>\n",
       "      <td>Café</td>\n",
       "      <td>Yoga Studio</td>\n",
       "      <td>Restaurant</td>\n",
       "      <td>Pub</td>\n",
       "      <td>Chocolate Shop</td>\n",
       "      <td>Dessert Shop</td>\n",
       "    </tr>\n",
       "    <tr>\n",
       "      <th>5</th>\n",
       "      <td>M6A</td>\n",
       "      <td>North York</td>\n",
       "      <td>Lawrence Manor, Lawrence Heights</td>\n",
       "      <td>43.718518</td>\n",
       "      <td>-79.464763</td>\n",
       "      <td>1.0</td>\n",
       "      <td>Clothing Store</td>\n",
       "      <td>Accessories Store</td>\n",
       "      <td>Vietnamese Restaurant</td>\n",
       "      <td>Boutique</td>\n",
       "      <td>Furniture / Home Store</td>\n",
       "      <td>Event Space</td>\n",
       "      <td>Coffee Shop</td>\n",
       "      <td>Construction &amp; Landscaping</td>\n",
       "      <td>Escape Room</td>\n",
       "      <td>Electronics Store</td>\n",
       "    </tr>\n",
       "    <tr>\n",
       "      <th>6</th>\n",
       "      <td>M7A</td>\n",
       "      <td>Downtown Toronto</td>\n",
       "      <td>Queen's Park, Ontario Provincial Government</td>\n",
       "      <td>43.662301</td>\n",
       "      <td>-79.389494</td>\n",
       "      <td>1.0</td>\n",
       "      <td>Coffee Shop</td>\n",
       "      <td>Sushi Restaurant</td>\n",
       "      <td>Creperie</td>\n",
       "      <td>Beer Bar</td>\n",
       "      <td>Smoothie Shop</td>\n",
       "      <td>Sandwich Place</td>\n",
       "      <td>Burrito Place</td>\n",
       "      <td>Café</td>\n",
       "      <td>Portuguese Restaurant</td>\n",
       "      <td>College Auditorium</td>\n",
       "    </tr>\n",
       "  </tbody>\n",
       "</table>\n",
       "</div>"
      ],
      "text/plain": [
       "  Postal Code           Borough                                Neighbourhood  \\\n",
       "2         M3A        North York                                    Parkwoods   \n",
       "3         M4A        North York                             Victoria Village   \n",
       "4         M5A  Downtown Toronto                    Regent Park, Harbourfront   \n",
       "5         M6A        North York             Lawrence Manor, Lawrence Heights   \n",
       "6         M7A  Downtown Toronto  Queen's Park, Ontario Provincial Government   \n",
       "\n",
       "    Latitude  Longitude  Cluster Labels  1st Most Common Venue  \\\n",
       "2  43.753259 -79.329656             0.0                   Park   \n",
       "3  43.725882 -79.315572             1.0  Portuguese Restaurant   \n",
       "4  43.654260 -79.360636             1.0            Coffee Shop   \n",
       "5  43.718518 -79.464763             1.0         Clothing Store   \n",
       "6  43.662301 -79.389494             1.0            Coffee Shop   \n",
       "\n",
       "  2nd Most Common Venue  3rd Most Common Venue 4th Most Common Venue  \\\n",
       "2     Food & Drink Shop            Yoga Studio      Department Store   \n",
       "3           Coffee Shop           Hockey Arena     French Restaurant   \n",
       "4                  Park                 Bakery        Breakfast Spot   \n",
       "5     Accessories Store  Vietnamese Restaurant              Boutique   \n",
       "6      Sushi Restaurant               Creperie              Beer Bar   \n",
       "\n",
       "         5th Most Common Venue 6th Most Common Venue  \\\n",
       "2                  Escape Room     Electronics Store   \n",
       "3  Eastern European Restaurant             Drugstore   \n",
       "4                         Café           Yoga Studio   \n",
       "5       Furniture / Home Store           Event Space   \n",
       "6                Smoothie Shop        Sandwich Place   \n",
       "\n",
       "         7th Most Common Venue       8th Most Common Venue  \\\n",
       "2  Eastern European Restaurant                   Drugstore   \n",
       "3                   Donut Shop                     Dog Run   \n",
       "4                   Restaurant                         Pub   \n",
       "5                  Coffee Shop  Construction & Landscaping   \n",
       "6                Burrito Place                        Café   \n",
       "\n",
       "   9th Most Common Venue 10th Most Common Venue  \n",
       "2             Donut Shop                Dog Run  \n",
       "3          Deli / Bodega    Distribution Center  \n",
       "4         Chocolate Shop           Dessert Shop  \n",
       "5            Escape Room      Electronics Store  \n",
       "6  Portuguese Restaurant     College Auditorium  "
      ]
     },
     "execution_count": 35,
     "metadata": {},
     "output_type": "execute_result"
    }
   ],
   "source": [
    "toronto_merged = combined_data\n",
    "\n",
    "toronto_merged = toronto_merged.join(neighborhoods_venues_sorted.set_index('Neighbourhood'), on='Neighbourhood')\n",
    "\n",
    "toronto_merged.head()"
   ]
  },
  {
   "cell_type": "markdown",
   "metadata": {
    "colab_type": "text",
    "id": "KForYHhcmr4q"
   },
   "source": [
    "Drop all the NaN values to prevent data skew"
   ]
  },
  {
   "cell_type": "code",
   "execution_count": 36,
   "metadata": {
    "colab": {},
    "colab_type": "code",
    "executionInfo": {
     "elapsed": 2864,
     "status": "ok",
     "timestamp": 1597498954267,
     "user": {
      "displayName": "Thomas George Thomas",
      "photoUrl": "https://lh3.googleusercontent.com/a-/AOh14GhRjmtno5yCmJOUjYiFNGHi_xP5YZBJ1ZpWGKsZ=s64",
      "userId": "09561174857978505545"
     },
     "user_tz": -330
    },
    "id": "PgCHHM6XmCKQ"
   },
   "outputs": [],
   "source": [
    "toronto_merged_nonan = toronto_merged.dropna(subset=['Cluster Labels'])"
   ]
  },
  {
   "cell_type": "markdown",
   "metadata": {
    "colab_type": "text",
    "id": "B6V4-bolmyQH"
   },
   "source": [
    "Plotting the clusters on the map"
   ]
  },
  {
   "cell_type": "code",
   "execution_count": 37,
   "metadata": {
    "colab": {},
    "colab_type": "code",
    "executionInfo": {
     "elapsed": 2853,
     "status": "ok",
     "timestamp": 1597498954268,
     "user": {
      "displayName": "Thomas George Thomas",
      "photoUrl": "https://lh3.googleusercontent.com/a-/AOh14GhRjmtno5yCmJOUjYiFNGHi_xP5YZBJ1ZpWGKsZ=s64",
      "userId": "09561174857978505545"
     },
     "user_tz": -330
    },
    "id": "vaZ3xg_Um1yS"
   },
   "outputs": [],
   "source": [
    "import matplotlib.cm as cm\n",
    "import matplotlib.colors as colors"
   ]
  },
  {
   "cell_type": "code",
   "execution_count": 38,
   "metadata": {
    "colab": {
     "base_uri": "https://localhost:8080/",
     "height": 743
    },
    "colab_type": "code",
    "executionInfo": {
     "elapsed": 983,
     "status": "ok",
     "timestamp": 1597500245033,
     "user": {
      "displayName": "Thomas George Thomas",
      "photoUrl": "https://lh3.googleusercontent.com/a-/AOh14GhRjmtno5yCmJOUjYiFNGHi_xP5YZBJ1ZpWGKsZ=s64",
      "userId": "09561174857978505545"
     },
     "user_tz": -330
    },
    "id": "EJbRtYvwmwqf",
    "outputId": "d1581dc6-aa3d-45ea-d1aa-5677c0f69100"
   },
   "outputs": [
    {
     "data": {
      "text/html": [
       "<div style=\"width:100%;\"><div style=\"position:relative;width:100%;height:0;padding-bottom:60%;\"><span style=\"color:#565656\">Make this Notebook Trusted to load map: File -> Trust Notebook</span><iframe src=\"about:blank\" style=\"position:absolute;width:100%;height:100%;left:0;top:0;border:none !important;\" data-html=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 onload=\"this.contentDocument.open();this.contentDocument.write(atob(this.getAttribute('data-html')));this.contentDocument.close();\" allowfullscreen webkitallowfullscreen mozallowfullscreen></iframe></div></div>"
      ],
      "text/plain": [
       "<folium.folium.Map at 0x22e3ccf8c88>"
      ]
     },
     "execution_count": 38,
     "metadata": {},
     "output_type": "execute_result"
    }
   ],
   "source": [
    "map_clusters = folium.Map(location=[latitude, longitude], zoom_start=11)\n",
    "\n",
    "# set color scheme for the clusters\n",
    "x = np.arange(k_num_clusters)\n",
    "ys = [i + x + (i*x)**2 for i in range(k_num_clusters)]\n",
    "colors_array = cm.rainbow(np.linspace(0, 1, len(ys)))\n",
    "rainbow = [colors.rgb2hex(i) for i in colors_array]\n",
    "\n",
    "# add markers to the map\n",
    "markers_colors = []\n",
    "for lat, lon, poi, cluster in zip(toronto_merged_nonan['Latitude'], toronto_merged_nonan['Longitude'], toronto_merged_nonan['Neighbourhood'], toronto_merged_nonan['Cluster Labels']):\n",
    "    label = folium.Popup('Cluster ' + str(int(cluster) +1) + '\\n' + str(poi) , parse_html=True)\n",
    "    folium.CircleMarker(\n",
    "        [lat, lon],\n",
    "        radius=5,\n",
    "        popup=label,\n",
    "        color=rainbow[int(cluster-1)],\n",
    "        fill=True,\n",
    "        fill_color=rainbow[int(cluster-1)]\n",
    "        ).add_to(map_clusters)\n",
    "        \n",
    "map_clusters"
   ]
  },
  {
   "cell_type": "markdown",
   "metadata": {
    "colab_type": "text",
    "id": "YYxLDsnTnixy"
   },
   "source": [
    "### Cluster 1"
   ]
  },
  {
   "cell_type": "code",
   "execution_count": 39,
   "metadata": {
    "colab": {
     "base_uri": "https://localhost:8080/",
     "height": 623
    },
    "colab_type": "code",
    "executionInfo": {
     "elapsed": 3490,
     "status": "ok",
     "timestamp": 1597498954938,
     "user": {
      "displayName": "Thomas George Thomas",
      "photoUrl": "https://lh3.googleusercontent.com/a-/AOh14GhRjmtno5yCmJOUjYiFNGHi_xP5YZBJ1ZpWGKsZ=s64",
      "userId": "09561174857978505545"
     },
     "user_tz": -330
    },
    "id": "9cPDyS3Tm8Lb",
    "outputId": "fad08da8-2be8-4c50-f01c-a862872510bf"
   },
   "outputs": [
    {
     "data": {
      "text/html": [
       "<div>\n",
       "<style scoped>\n",
       "    .dataframe tbody tr th:only-of-type {\n",
       "        vertical-align: middle;\n",
       "    }\n",
       "\n",
       "    .dataframe tbody tr th {\n",
       "        vertical-align: top;\n",
       "    }\n",
       "\n",
       "    .dataframe thead th {\n",
       "        text-align: right;\n",
       "    }\n",
       "</style>\n",
       "<table border=\"1\" class=\"dataframe\">\n",
       "  <thead>\n",
       "    <tr style=\"text-align: right;\">\n",
       "      <th></th>\n",
       "      <th>Borough</th>\n",
       "      <th>Cluster Labels</th>\n",
       "      <th>1st Most Common Venue</th>\n",
       "      <th>2nd Most Common Venue</th>\n",
       "      <th>3rd Most Common Venue</th>\n",
       "      <th>4th Most Common Venue</th>\n",
       "      <th>5th Most Common Venue</th>\n",
       "      <th>6th Most Common Venue</th>\n",
       "      <th>7th Most Common Venue</th>\n",
       "      <th>8th Most Common Venue</th>\n",
       "      <th>9th Most Common Venue</th>\n",
       "      <th>10th Most Common Venue</th>\n",
       "    </tr>\n",
       "  </thead>\n",
       "  <tbody>\n",
       "    <tr>\n",
       "      <th>2</th>\n",
       "      <td>North York</td>\n",
       "      <td>0.0</td>\n",
       "      <td>Park</td>\n",
       "      <td>Food &amp; Drink Shop</td>\n",
       "      <td>Yoga Studio</td>\n",
       "      <td>Department Store</td>\n",
       "      <td>Escape Room</td>\n",
       "      <td>Electronics Store</td>\n",
       "      <td>Eastern European Restaurant</td>\n",
       "      <td>Drugstore</td>\n",
       "      <td>Donut Shop</td>\n",
       "      <td>Dog Run</td>\n",
       "    </tr>\n",
       "    <tr>\n",
       "      <th>32</th>\n",
       "      <td>York</td>\n",
       "      <td>0.0</td>\n",
       "      <td>Park</td>\n",
       "      <td>Women's Store</td>\n",
       "      <td>Deli / Bodega</td>\n",
       "      <td>Escape Room</td>\n",
       "      <td>Electronics Store</td>\n",
       "      <td>Eastern European Restaurant</td>\n",
       "      <td>Drugstore</td>\n",
       "      <td>Donut Shop</td>\n",
       "      <td>Dog Run</td>\n",
       "      <td>Distribution Center</td>\n",
       "    </tr>\n",
       "    <tr>\n",
       "      <th>57</th>\n",
       "      <td>East York</td>\n",
       "      <td>0.0</td>\n",
       "      <td>Park</td>\n",
       "      <td>Convenience Store</td>\n",
       "      <td>Yoga Studio</td>\n",
       "      <td>Department Store</td>\n",
       "      <td>Escape Room</td>\n",
       "      <td>Electronics Store</td>\n",
       "      <td>Eastern European Restaurant</td>\n",
       "      <td>Drugstore</td>\n",
       "      <td>Donut Shop</td>\n",
       "      <td>Dog Run</td>\n",
       "    </tr>\n",
       "    <tr>\n",
       "      <th>98</th>\n",
       "      <td>York</td>\n",
       "      <td>0.0</td>\n",
       "      <td>Park</td>\n",
       "      <td>Jewelry Store</td>\n",
       "      <td>Yoga Studio</td>\n",
       "      <td>Department Store</td>\n",
       "      <td>Escape Room</td>\n",
       "      <td>Electronics Store</td>\n",
       "      <td>Eastern European Restaurant</td>\n",
       "      <td>Drugstore</td>\n",
       "      <td>Donut Shop</td>\n",
       "      <td>Dog Run</td>\n",
       "    </tr>\n",
       "    <tr>\n",
       "      <th>100</th>\n",
       "      <td>North York</td>\n",
       "      <td>0.0</td>\n",
       "      <td>Park</td>\n",
       "      <td>Convenience Store</td>\n",
       "      <td>Yoga Studio</td>\n",
       "      <td>Department Store</td>\n",
       "      <td>Escape Room</td>\n",
       "      <td>Electronics Store</td>\n",
       "      <td>Eastern European Restaurant</td>\n",
       "      <td>Drugstore</td>\n",
       "      <td>Donut Shop</td>\n",
       "      <td>Dog Run</td>\n",
       "    </tr>\n",
       "    <tr>\n",
       "      <th>135</th>\n",
       "      <td>Scarborough</td>\n",
       "      <td>0.0</td>\n",
       "      <td>Park</td>\n",
       "      <td>Playground</td>\n",
       "      <td>Intersection</td>\n",
       "      <td>Deli / Bodega</td>\n",
       "      <td>Electronics Store</td>\n",
       "      <td>Eastern European Restaurant</td>\n",
       "      <td>Drugstore</td>\n",
       "      <td>Donut Shop</td>\n",
       "      <td>Dog Run</td>\n",
       "      <td>Distribution Center</td>\n",
       "    </tr>\n",
       "    <tr>\n",
       "      <th>147</th>\n",
       "      <td>Downtown Toronto</td>\n",
       "      <td>0.0</td>\n",
       "      <td>Park</td>\n",
       "      <td>Playground</td>\n",
       "      <td>Trail</td>\n",
       "      <td>Dance Studio</td>\n",
       "      <td>Electronics Store</td>\n",
       "      <td>Eastern European Restaurant</td>\n",
       "      <td>Drugstore</td>\n",
       "      <td>Donut Shop</td>\n",
       "      <td>Dog Run</td>\n",
       "      <td>Distribution Center</td>\n",
       "    </tr>\n",
       "  </tbody>\n",
       "</table>\n",
       "</div>"
      ],
      "text/plain": [
       "              Borough  Cluster Labels 1st Most Common Venue  \\\n",
       "2          North York             0.0                  Park   \n",
       "32               York             0.0                  Park   \n",
       "57          East York             0.0                  Park   \n",
       "98               York             0.0                  Park   \n",
       "100        North York             0.0                  Park   \n",
       "135       Scarborough             0.0                  Park   \n",
       "147  Downtown Toronto             0.0                  Park   \n",
       "\n",
       "    2nd Most Common Venue 3rd Most Common Venue 4th Most Common Venue  \\\n",
       "2       Food & Drink Shop           Yoga Studio      Department Store   \n",
       "32          Women's Store         Deli / Bodega           Escape Room   \n",
       "57      Convenience Store           Yoga Studio      Department Store   \n",
       "98          Jewelry Store           Yoga Studio      Department Store   \n",
       "100     Convenience Store           Yoga Studio      Department Store   \n",
       "135            Playground          Intersection         Deli / Bodega   \n",
       "147            Playground                 Trail          Dance Studio   \n",
       "\n",
       "    5th Most Common Venue        6th Most Common Venue  \\\n",
       "2             Escape Room            Electronics Store   \n",
       "32      Electronics Store  Eastern European Restaurant   \n",
       "57            Escape Room            Electronics Store   \n",
       "98            Escape Room            Electronics Store   \n",
       "100           Escape Room            Electronics Store   \n",
       "135     Electronics Store  Eastern European Restaurant   \n",
       "147     Electronics Store  Eastern European Restaurant   \n",
       "\n",
       "           7th Most Common Venue 8th Most Common Venue 9th Most Common Venue  \\\n",
       "2    Eastern European Restaurant             Drugstore            Donut Shop   \n",
       "32                     Drugstore            Donut Shop               Dog Run   \n",
       "57   Eastern European Restaurant             Drugstore            Donut Shop   \n",
       "98   Eastern European Restaurant             Drugstore            Donut Shop   \n",
       "100  Eastern European Restaurant             Drugstore            Donut Shop   \n",
       "135                    Drugstore            Donut Shop               Dog Run   \n",
       "147                    Drugstore            Donut Shop               Dog Run   \n",
       "\n",
       "    10th Most Common Venue  \n",
       "2                  Dog Run  \n",
       "32     Distribution Center  \n",
       "57                 Dog Run  \n",
       "98                 Dog Run  \n",
       "100                Dog Run  \n",
       "135    Distribution Center  \n",
       "147    Distribution Center  "
      ]
     },
     "execution_count": 39,
     "metadata": {},
     "output_type": "execute_result"
    }
   ],
   "source": [
    "toronto_merged_nonan.loc[toronto_merged_nonan['Cluster Labels'] == 0, toronto_merged_nonan.columns[[1] + list(range(5, toronto_merged_nonan.shape[1]))]]"
   ]
  },
  {
   "cell_type": "markdown",
   "metadata": {
    "colab_type": "text",
    "id": "BaX56fJNobro"
   },
   "source": [
    "### Cluster 2"
   ]
  },
  {
   "cell_type": "code",
   "execution_count": 40,
   "metadata": {
    "colab": {
     "base_uri": "https://localhost:8080/",
     "height": 405
    },
    "colab_type": "code",
    "executionInfo": {
     "elapsed": 3476,
     "status": "ok",
     "timestamp": 1597498954942,
     "user": {
      "displayName": "Thomas George Thomas",
      "photoUrl": "https://lh3.googleusercontent.com/a-/AOh14GhRjmtno5yCmJOUjYiFNGHi_xP5YZBJ1ZpWGKsZ=s64",
      "userId": "09561174857978505545"
     },
     "user_tz": -330
    },
    "id": "edT5MG36no8-",
    "outputId": "548c961d-9d4f-4b4b-9279-9cefd8bf7da2"
   },
   "outputs": [
    {
     "data": {
      "text/html": [
       "<div>\n",
       "<style scoped>\n",
       "    .dataframe tbody tr th:only-of-type {\n",
       "        vertical-align: middle;\n",
       "    }\n",
       "\n",
       "    .dataframe tbody tr th {\n",
       "        vertical-align: top;\n",
       "    }\n",
       "\n",
       "    .dataframe thead th {\n",
       "        text-align: right;\n",
       "    }\n",
       "</style>\n",
       "<table border=\"1\" class=\"dataframe\">\n",
       "  <thead>\n",
       "    <tr style=\"text-align: right;\">\n",
       "      <th></th>\n",
       "      <th>Borough</th>\n",
       "      <th>Cluster Labels</th>\n",
       "      <th>1st Most Common Venue</th>\n",
       "      <th>2nd Most Common Venue</th>\n",
       "      <th>3rd Most Common Venue</th>\n",
       "      <th>4th Most Common Venue</th>\n",
       "      <th>5th Most Common Venue</th>\n",
       "      <th>6th Most Common Venue</th>\n",
       "      <th>7th Most Common Venue</th>\n",
       "      <th>8th Most Common Venue</th>\n",
       "      <th>9th Most Common Venue</th>\n",
       "      <th>10th Most Common Venue</th>\n",
       "    </tr>\n",
       "  </thead>\n",
       "  <tbody>\n",
       "    <tr>\n",
       "      <th>3</th>\n",
       "      <td>North York</td>\n",
       "      <td>1.0</td>\n",
       "      <td>Portuguese Restaurant</td>\n",
       "      <td>Coffee Shop</td>\n",
       "      <td>Hockey Arena</td>\n",
       "      <td>French Restaurant</td>\n",
       "      <td>Eastern European Restaurant</td>\n",
       "      <td>Drugstore</td>\n",
       "      <td>Donut Shop</td>\n",
       "      <td>Dog Run</td>\n",
       "      <td>Deli / Bodega</td>\n",
       "      <td>Distribution Center</td>\n",
       "    </tr>\n",
       "    <tr>\n",
       "      <th>4</th>\n",
       "      <td>Downtown Toronto</td>\n",
       "      <td>1.0</td>\n",
       "      <td>Coffee Shop</td>\n",
       "      <td>Park</td>\n",
       "      <td>Bakery</td>\n",
       "      <td>Breakfast Spot</td>\n",
       "      <td>Café</td>\n",
       "      <td>Yoga Studio</td>\n",
       "      <td>Restaurant</td>\n",
       "      <td>Pub</td>\n",
       "      <td>Chocolate Shop</td>\n",
       "      <td>Dessert Shop</td>\n",
       "    </tr>\n",
       "    <tr>\n",
       "      <th>5</th>\n",
       "      <td>North York</td>\n",
       "      <td>1.0</td>\n",
       "      <td>Clothing Store</td>\n",
       "      <td>Accessories Store</td>\n",
       "      <td>Vietnamese Restaurant</td>\n",
       "      <td>Boutique</td>\n",
       "      <td>Furniture / Home Store</td>\n",
       "      <td>Event Space</td>\n",
       "      <td>Coffee Shop</td>\n",
       "      <td>Construction &amp; Landscaping</td>\n",
       "      <td>Escape Room</td>\n",
       "      <td>Electronics Store</td>\n",
       "    </tr>\n",
       "    <tr>\n",
       "      <th>6</th>\n",
       "      <td>Downtown Toronto</td>\n",
       "      <td>1.0</td>\n",
       "      <td>Coffee Shop</td>\n",
       "      <td>Sushi Restaurant</td>\n",
       "      <td>Creperie</td>\n",
       "      <td>Beer Bar</td>\n",
       "      <td>Smoothie Shop</td>\n",
       "      <td>Sandwich Place</td>\n",
       "      <td>Burrito Place</td>\n",
       "      <td>Café</td>\n",
       "      <td>Portuguese Restaurant</td>\n",
       "      <td>College Auditorium</td>\n",
       "    </tr>\n",
       "    <tr>\n",
       "      <th>9</th>\n",
       "      <td>Scarborough</td>\n",
       "      <td>1.0</td>\n",
       "      <td>Fast Food Restaurant</td>\n",
       "      <td>Yoga Studio</td>\n",
       "      <td>Event Space</td>\n",
       "      <td>Escape Room</td>\n",
       "      <td>Electronics Store</td>\n",
       "      <td>Eastern European Restaurant</td>\n",
       "      <td>Drugstore</td>\n",
       "      <td>Donut Shop</td>\n",
       "      <td>Dog Run</td>\n",
       "      <td>Distribution Center</td>\n",
       "    </tr>\n",
       "    <tr>\n",
       "      <th>...</th>\n",
       "      <td>...</td>\n",
       "      <td>...</td>\n",
       "      <td>...</td>\n",
       "      <td>...</td>\n",
       "      <td>...</td>\n",
       "      <td>...</td>\n",
       "      <td>...</td>\n",
       "      <td>...</td>\n",
       "      <td>...</td>\n",
       "      <td>...</td>\n",
       "      <td>...</td>\n",
       "      <td>...</td>\n",
       "    </tr>\n",
       "    <tr>\n",
       "      <th>157</th>\n",
       "      <td>Downtown Toronto</td>\n",
       "      <td>1.0</td>\n",
       "      <td>Restaurant</td>\n",
       "      <td>Café</td>\n",
       "      <td>Coffee Shop</td>\n",
       "      <td>Seafood Restaurant</td>\n",
       "      <td>Gastropub</td>\n",
       "      <td>Asian Restaurant</td>\n",
       "      <td>Pub</td>\n",
       "      <td>Speakeasy</td>\n",
       "      <td>Hotel</td>\n",
       "      <td>Steakhouse</td>\n",
       "    </tr>\n",
       "    <tr>\n",
       "      <th>160</th>\n",
       "      <td>Etobicoke</td>\n",
       "      <td>1.0</td>\n",
       "      <td>River</td>\n",
       "      <td>Smoke Shop</td>\n",
       "      <td>Pool</td>\n",
       "      <td>Dance Studio</td>\n",
       "      <td>Eastern European Restaurant</td>\n",
       "      <td>Drugstore</td>\n",
       "      <td>Donut Shop</td>\n",
       "      <td>Dog Run</td>\n",
       "      <td>Distribution Center</td>\n",
       "      <td>Discount Store</td>\n",
       "    </tr>\n",
       "    <tr>\n",
       "      <th>165</th>\n",
       "      <td>Downtown Toronto</td>\n",
       "      <td>1.0</td>\n",
       "      <td>Coffee Shop</td>\n",
       "      <td>Hobby Shop</td>\n",
       "      <td>Escape Room</td>\n",
       "      <td>Café</td>\n",
       "      <td>Pub</td>\n",
       "      <td>Ramen Restaurant</td>\n",
       "      <td>Ice Cream Shop</td>\n",
       "      <td>Indian Restaurant</td>\n",
       "      <td>Beer Bar</td>\n",
       "      <td>Ethiopian Restaurant</td>\n",
       "    </tr>\n",
       "    <tr>\n",
       "      <th>168</th>\n",
       "      <td>East Toronto</td>\n",
       "      <td>1.0</td>\n",
       "      <td>Light Rail Station</td>\n",
       "      <td>Pizza Place</td>\n",
       "      <td>Skate Park</td>\n",
       "      <td>Brewery</td>\n",
       "      <td>Burrito Place</td>\n",
       "      <td>Farmers Market</td>\n",
       "      <td>Fast Food Restaurant</td>\n",
       "      <td>Restaurant</td>\n",
       "      <td>Auto Workshop</td>\n",
       "      <td>Spa</td>\n",
       "    </tr>\n",
       "    <tr>\n",
       "      <th>178</th>\n",
       "      <td>Etobicoke</td>\n",
       "      <td>1.0</td>\n",
       "      <td>Grocery Store</td>\n",
       "      <td>Hardware Store</td>\n",
       "      <td>Convenience Store</td>\n",
       "      <td>Discount Store</td>\n",
       "      <td>Burger Joint</td>\n",
       "      <td>Sandwich Place</td>\n",
       "      <td>Fast Food Restaurant</td>\n",
       "      <td>Supplement Shop</td>\n",
       "      <td>Bakery</td>\n",
       "      <td>Tanning Salon</td>\n",
       "    </tr>\n",
       "  </tbody>\n",
       "</table>\n",
       "<p>88 rows × 12 columns</p>\n",
       "</div>"
      ],
      "text/plain": [
       "              Borough  Cluster Labels  1st Most Common Venue  \\\n",
       "3          North York             1.0  Portuguese Restaurant   \n",
       "4    Downtown Toronto             1.0            Coffee Shop   \n",
       "5          North York             1.0         Clothing Store   \n",
       "6    Downtown Toronto             1.0            Coffee Shop   \n",
       "9         Scarborough             1.0   Fast Food Restaurant   \n",
       "..                ...             ...                    ...   \n",
       "157  Downtown Toronto             1.0             Restaurant   \n",
       "160         Etobicoke             1.0                  River   \n",
       "165  Downtown Toronto             1.0            Coffee Shop   \n",
       "168      East Toronto             1.0     Light Rail Station   \n",
       "178         Etobicoke             1.0          Grocery Store   \n",
       "\n",
       "    2nd Most Common Venue  3rd Most Common Venue 4th Most Common Venue  \\\n",
       "3             Coffee Shop           Hockey Arena     French Restaurant   \n",
       "4                    Park                 Bakery        Breakfast Spot   \n",
       "5       Accessories Store  Vietnamese Restaurant              Boutique   \n",
       "6        Sushi Restaurant               Creperie              Beer Bar   \n",
       "9             Yoga Studio            Event Space           Escape Room   \n",
       "..                    ...                    ...                   ...   \n",
       "157                  Café            Coffee Shop    Seafood Restaurant   \n",
       "160            Smoke Shop                   Pool          Dance Studio   \n",
       "165            Hobby Shop            Escape Room                  Café   \n",
       "168           Pizza Place             Skate Park               Brewery   \n",
       "178        Hardware Store      Convenience Store        Discount Store   \n",
       "\n",
       "           5th Most Common Venue        6th Most Common Venue  \\\n",
       "3    Eastern European Restaurant                    Drugstore   \n",
       "4                           Café                  Yoga Studio   \n",
       "5         Furniture / Home Store                  Event Space   \n",
       "6                  Smoothie Shop               Sandwich Place   \n",
       "9              Electronics Store  Eastern European Restaurant   \n",
       "..                           ...                          ...   \n",
       "157                    Gastropub             Asian Restaurant   \n",
       "160  Eastern European Restaurant                    Drugstore   \n",
       "165                          Pub             Ramen Restaurant   \n",
       "168                Burrito Place               Farmers Market   \n",
       "178                 Burger Joint               Sandwich Place   \n",
       "\n",
       "    7th Most Common Venue       8th Most Common Venue  9th Most Common Venue  \\\n",
       "3              Donut Shop                     Dog Run          Deli / Bodega   \n",
       "4              Restaurant                         Pub         Chocolate Shop   \n",
       "5             Coffee Shop  Construction & Landscaping            Escape Room   \n",
       "6           Burrito Place                        Café  Portuguese Restaurant   \n",
       "9               Drugstore                  Donut Shop                Dog Run   \n",
       "..                    ...                         ...                    ...   \n",
       "157                   Pub                   Speakeasy                  Hotel   \n",
       "160            Donut Shop                     Dog Run    Distribution Center   \n",
       "165        Ice Cream Shop           Indian Restaurant               Beer Bar   \n",
       "168  Fast Food Restaurant                  Restaurant          Auto Workshop   \n",
       "178  Fast Food Restaurant             Supplement Shop                 Bakery   \n",
       "\n",
       "    10th Most Common Venue  \n",
       "3      Distribution Center  \n",
       "4             Dessert Shop  \n",
       "5        Electronics Store  \n",
       "6       College Auditorium  \n",
       "9      Distribution Center  \n",
       "..                     ...  \n",
       "157             Steakhouse  \n",
       "160         Discount Store  \n",
       "165   Ethiopian Restaurant  \n",
       "168                    Spa  \n",
       "178          Tanning Salon  \n",
       "\n",
       "[88 rows x 12 columns]"
      ]
     },
     "execution_count": 40,
     "metadata": {},
     "output_type": "execute_result"
    }
   ],
   "source": [
    "toronto_merged_nonan.loc[toronto_merged_nonan['Cluster Labels'] == 1, toronto_merged_nonan.columns[[1] + list(range(5, toronto_merged_nonan.shape[1]))]]"
   ]
  },
  {
   "cell_type": "markdown",
   "metadata": {
    "colab_type": "text",
    "id": "IMz4-VLUodmR"
   },
   "source": [
    "### Cluster 3"
   ]
  },
  {
   "cell_type": "code",
   "execution_count": 41,
   "metadata": {
    "colab": {
     "base_uri": "https://localhost:8080/",
     "height": 552
    },
    "colab_type": "code",
    "executionInfo": {
     "elapsed": 3459,
     "status": "ok",
     "timestamp": 1597498954944,
     "user": {
      "displayName": "Thomas George Thomas",
      "photoUrl": "https://lh3.googleusercontent.com/a-/AOh14GhRjmtno5yCmJOUjYiFNGHi_xP5YZBJ1ZpWGKsZ=s64",
      "userId": "09561174857978505545"
     },
     "user_tz": -330
    },
    "id": "5h0CRKProHPF",
    "outputId": "b69c1a14-a08a-46f7-c2d1-7b30956e5cc2"
   },
   "outputs": [
    {
     "data": {
      "text/html": [
       "<div>\n",
       "<style scoped>\n",
       "    .dataframe tbody tr th:only-of-type {\n",
       "        vertical-align: middle;\n",
       "    }\n",
       "\n",
       "    .dataframe tbody tr th {\n",
       "        vertical-align: top;\n",
       "    }\n",
       "\n",
       "    .dataframe thead th {\n",
       "        text-align: right;\n",
       "    }\n",
       "</style>\n",
       "<table border=\"1\" class=\"dataframe\">\n",
       "  <thead>\n",
       "    <tr style=\"text-align: right;\">\n",
       "      <th></th>\n",
       "      <th>Borough</th>\n",
       "      <th>Cluster Labels</th>\n",
       "      <th>1st Most Common Venue</th>\n",
       "      <th>2nd Most Common Venue</th>\n",
       "      <th>3rd Most Common Venue</th>\n",
       "      <th>4th Most Common Venue</th>\n",
       "      <th>5th Most Common Venue</th>\n",
       "      <th>6th Most Common Venue</th>\n",
       "      <th>7th Most Common Venue</th>\n",
       "      <th>8th Most Common Venue</th>\n",
       "      <th>9th Most Common Venue</th>\n",
       "      <th>10th Most Common Venue</th>\n",
       "    </tr>\n",
       "  </thead>\n",
       "  <tbody>\n",
       "    <tr>\n",
       "      <th>89</th>\n",
       "      <td>North York</td>\n",
       "      <td>2.0</td>\n",
       "      <td>Construction &amp; Landscaping</td>\n",
       "      <td>Baseball Field</td>\n",
       "      <td>Yoga Studio</td>\n",
       "      <td>Dessert Shop</td>\n",
       "      <td>Ethiopian Restaurant</td>\n",
       "      <td>Escape Room</td>\n",
       "      <td>Electronics Store</td>\n",
       "      <td>Eastern European Restaurant</td>\n",
       "      <td>Drugstore</td>\n",
       "      <td>Donut Shop</td>\n",
       "    </tr>\n",
       "    <tr>\n",
       "      <th>169</th>\n",
       "      <td>Etobicoke</td>\n",
       "      <td>2.0</td>\n",
       "      <td>Baseball Field</td>\n",
       "      <td>Yoga Studio</td>\n",
       "      <td>Falafel Restaurant</td>\n",
       "      <td>Ethiopian Restaurant</td>\n",
       "      <td>Escape Room</td>\n",
       "      <td>Electronics Store</td>\n",
       "      <td>Eastern European Restaurant</td>\n",
       "      <td>Drugstore</td>\n",
       "      <td>Donut Shop</td>\n",
       "      <td>Dog Run</td>\n",
       "    </tr>\n",
       "  </tbody>\n",
       "</table>\n",
       "</div>"
      ],
      "text/plain": [
       "        Borough  Cluster Labels       1st Most Common Venue  \\\n",
       "89   North York             2.0  Construction & Landscaping   \n",
       "169   Etobicoke             2.0              Baseball Field   \n",
       "\n",
       "    2nd Most Common Venue 3rd Most Common Venue 4th Most Common Venue  \\\n",
       "89         Baseball Field           Yoga Studio          Dessert Shop   \n",
       "169           Yoga Studio    Falafel Restaurant  Ethiopian Restaurant   \n",
       "\n",
       "    5th Most Common Venue 6th Most Common Venue        7th Most Common Venue  \\\n",
       "89   Ethiopian Restaurant           Escape Room            Electronics Store   \n",
       "169           Escape Room     Electronics Store  Eastern European Restaurant   \n",
       "\n",
       "           8th Most Common Venue 9th Most Common Venue 10th Most Common Venue  \n",
       "89   Eastern European Restaurant             Drugstore             Donut Shop  \n",
       "169                    Drugstore            Donut Shop                Dog Run  "
      ]
     },
     "execution_count": 41,
     "metadata": {},
     "output_type": "execute_result"
    }
   ],
   "source": [
    "toronto_merged_nonan.loc[toronto_merged_nonan['Cluster Labels'] == 2, toronto_merged_nonan.columns[[1] + list(range(5, toronto_merged_nonan.shape[1]))]]"
   ]
  },
  {
   "cell_type": "markdown",
   "metadata": {
    "colab_type": "text",
    "id": "kf6OOohdof3D"
   },
   "source": [
    "### Cluster 4"
   ]
  },
  {
   "cell_type": "code",
   "execution_count": 42,
   "metadata": {
    "colab": {
     "base_uri": "https://localhost:8080/",
     "height": 213
    },
    "colab_type": "code",
    "executionInfo": {
     "elapsed": 3441,
     "status": "ok",
     "timestamp": 1597498954945,
     "user": {
      "displayName": "Thomas George Thomas",
      "photoUrl": "https://lh3.googleusercontent.com/a-/AOh14GhRjmtno5yCmJOUjYiFNGHi_xP5YZBJ1ZpWGKsZ=s64",
      "userId": "09561174857978505545"
     },
     "user_tz": -330
    },
    "id": "wyousc8YoLVS",
    "outputId": "cba7f1a2-8668-4f43-fde2-1e17c6236a25"
   },
   "outputs": [
    {
     "data": {
      "text/html": [
       "<div>\n",
       "<style scoped>\n",
       "    .dataframe tbody tr th:only-of-type {\n",
       "        vertical-align: middle;\n",
       "    }\n",
       "\n",
       "    .dataframe tbody tr th {\n",
       "        vertical-align: top;\n",
       "    }\n",
       "\n",
       "    .dataframe thead th {\n",
       "        text-align: right;\n",
       "    }\n",
       "</style>\n",
       "<table border=\"1\" class=\"dataframe\">\n",
       "  <thead>\n",
       "    <tr style=\"text-align: right;\">\n",
       "      <th></th>\n",
       "      <th>Borough</th>\n",
       "      <th>Cluster Labels</th>\n",
       "      <th>1st Most Common Venue</th>\n",
       "      <th>2nd Most Common Venue</th>\n",
       "      <th>3rd Most Common Venue</th>\n",
       "      <th>4th Most Common Venue</th>\n",
       "      <th>5th Most Common Venue</th>\n",
       "      <th>6th Most Common Venue</th>\n",
       "      <th>7th Most Common Venue</th>\n",
       "      <th>8th Most Common Venue</th>\n",
       "      <th>9th Most Common Venue</th>\n",
       "      <th>10th Most Common Venue</th>\n",
       "    </tr>\n",
       "  </thead>\n",
       "  <tbody>\n",
       "    <tr>\n",
       "      <th>129</th>\n",
       "      <td>Central Toronto</td>\n",
       "      <td>3.0</td>\n",
       "      <td>Summer Camp</td>\n",
       "      <td>Yoga Studio</td>\n",
       "      <td>Event Space</td>\n",
       "      <td>Escape Room</td>\n",
       "      <td>Electronics Store</td>\n",
       "      <td>Eastern European Restaurant</td>\n",
       "      <td>Drugstore</td>\n",
       "      <td>Donut Shop</td>\n",
       "      <td>Dog Run</td>\n",
       "      <td>Distribution Center</td>\n",
       "    </tr>\n",
       "  </tbody>\n",
       "</table>\n",
       "</div>"
      ],
      "text/plain": [
       "             Borough  Cluster Labels 1st Most Common Venue  \\\n",
       "129  Central Toronto             3.0           Summer Camp   \n",
       "\n",
       "    2nd Most Common Venue 3rd Most Common Venue 4th Most Common Venue  \\\n",
       "129           Yoga Studio           Event Space           Escape Room   \n",
       "\n",
       "    5th Most Common Venue        6th Most Common Venue 7th Most Common Venue  \\\n",
       "129     Electronics Store  Eastern European Restaurant             Drugstore   \n",
       "\n",
       "    8th Most Common Venue 9th Most Common Venue 10th Most Common Venue  \n",
       "129            Donut Shop               Dog Run    Distribution Center  "
      ]
     },
     "execution_count": 42,
     "metadata": {},
     "output_type": "execute_result"
    }
   ],
   "source": [
    "toronto_merged_nonan.loc[toronto_merged_nonan['Cluster Labels'] == 3, toronto_merged_nonan.columns[[1] + list(range(5, toronto_merged_nonan.shape[1]))]]"
   ]
  },
  {
   "cell_type": "markdown",
   "metadata": {
    "colab_type": "text",
    "id": "EWa4EO03ohOu"
   },
   "source": [
    "### Cluster 5"
   ]
  },
  {
   "cell_type": "code",
   "execution_count": 43,
   "metadata": {
    "colab": {
     "base_uri": "https://localhost:8080/",
     "height": 148
    },
    "colab_type": "code",
    "executionInfo": {
     "elapsed": 3434,
     "status": "ok",
     "timestamp": 1597498954954,
     "user": {
      "displayName": "Thomas George Thomas",
      "photoUrl": "https://lh3.googleusercontent.com/a-/AOh14GhRjmtno5yCmJOUjYiFNGHi_xP5YZBJ1ZpWGKsZ=s64",
      "userId": "09561174857978505545"
     },
     "user_tz": -330
    },
    "id": "QODsaVbKoP5V",
    "outputId": "86cd9f8d-5af8-41de-db69-12ea208bdaf2"
   },
   "outputs": [
    {
     "data": {
      "text/html": [
       "<div>\n",
       "<style scoped>\n",
       "    .dataframe tbody tr th:only-of-type {\n",
       "        vertical-align: middle;\n",
       "    }\n",
       "\n",
       "    .dataframe tbody tr th {\n",
       "        vertical-align: top;\n",
       "    }\n",
       "\n",
       "    .dataframe thead th {\n",
       "        text-align: right;\n",
       "    }\n",
       "</style>\n",
       "<table border=\"1\" class=\"dataframe\">\n",
       "  <thead>\n",
       "    <tr style=\"text-align: right;\">\n",
       "      <th></th>\n",
       "      <th>Borough</th>\n",
       "      <th>Cluster Labels</th>\n",
       "      <th>1st Most Common Venue</th>\n",
       "      <th>2nd Most Common Venue</th>\n",
       "      <th>3rd Most Common Venue</th>\n",
       "      <th>4th Most Common Venue</th>\n",
       "      <th>5th Most Common Venue</th>\n",
       "      <th>6th Most Common Venue</th>\n",
       "      <th>7th Most Common Venue</th>\n",
       "      <th>8th Most Common Venue</th>\n",
       "      <th>9th Most Common Venue</th>\n",
       "      <th>10th Most Common Venue</th>\n",
       "    </tr>\n",
       "  </thead>\n",
       "  <tbody>\n",
       "    <tr>\n",
       "      <th>17</th>\n",
       "      <td>Etobicoke</td>\n",
       "      <td>4.0</td>\n",
       "      <td>Filipino Restaurant</td>\n",
       "      <td>Yoga Studio</td>\n",
       "      <td>Event Space</td>\n",
       "      <td>Escape Room</td>\n",
       "      <td>Electronics Store</td>\n",
       "      <td>Eastern European Restaurant</td>\n",
       "      <td>Drugstore</td>\n",
       "      <td>Donut Shop</td>\n",
       "      <td>Dog Run</td>\n",
       "      <td>Distribution Center</td>\n",
       "    </tr>\n",
       "  </tbody>\n",
       "</table>\n",
       "</div>"
      ],
      "text/plain": [
       "      Borough  Cluster Labels 1st Most Common Venue 2nd Most Common Venue  \\\n",
       "17  Etobicoke             4.0   Filipino Restaurant           Yoga Studio   \n",
       "\n",
       "   3rd Most Common Venue 4th Most Common Venue 5th Most Common Venue  \\\n",
       "17           Event Space           Escape Room     Electronics Store   \n",
       "\n",
       "          6th Most Common Venue 7th Most Common Venue 8th Most Common Venue  \\\n",
       "17  Eastern European Restaurant             Drugstore            Donut Shop   \n",
       "\n",
       "   9th Most Common Venue 10th Most Common Venue  \n",
       "17               Dog Run    Distribution Center  "
      ]
     },
     "execution_count": 43,
     "metadata": {},
     "output_type": "execute_result"
    }
   ],
   "source": [
    "toronto_merged_nonan.loc[toronto_merged_nonan['Cluster Labels'] == 4, toronto_merged_nonan.columns[[1] + list(range(5, toronto_merged_nonan.shape[1]))]]"
   ]
  }
 ],
 "metadata": {
  "colab": {
   "authorship_tag": "ABX9TyPdAUb3um3slFVIiL8/17K0",
   "collapsed_sections": [],
   "name": "Applied_Capstone_Week_3_Assignment.ipynb",
   "provenance": []
  },
  "kernelspec": {
   "display_name": "Python 3",
   "language": "python",
   "name": "python3"
  },
  "language_info": {
   "codemirror_mode": {
    "name": "ipython",
    "version": 3
   },
   "file_extension": ".py",
   "mimetype": "text/x-python",
   "name": "python",
   "nbconvert_exporter": "python",
   "pygments_lexer": "ipython3",
   "version": "3.7.9"
  }
 },
 "nbformat": 4,
 "nbformat_minor": 1
}
